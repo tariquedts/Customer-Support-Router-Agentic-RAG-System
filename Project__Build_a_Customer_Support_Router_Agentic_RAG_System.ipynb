{
 "cells": [
  {
   "cell_type": "markdown",
   "metadata": {
    "id": "NffLMDtsJFsY"
   },
   "source": [
    "# Build a Customer Support Router Agentic RAG System\n",
    "\n",
    "In this project, we will leverage the power of AI Agents and RAG Systems to build an intelligent Router Agentic RAG System to handle customer support queries using a custom knowledgebase.\n",
    "\n",
    "![](https://i.imgur.com/bLCdxCI.png)\n",
    "\n",
    "### Intelligent Router Agentic RAG System\n",
    "\n",
    "This project focuses on building an **Intelligent Router Agentic RAG System** that combines intelligent query analysis, sentiment detection, and dynamic routing with Retrieval-Augmented Generation (RAG) to handle diverse user inquiries efficiently. The workflow includes the following components:\n",
    "\n",
    "1. **Query Categorization and Sentiment Analysis**:\n",
    "   - The system uses **OpenAI GPT-4o** to analyze the user's query and determine:\n",
    "     - **Query Category**: Identifies the type of problem, such as billing, technical issues, or general queries.\n",
    "     - **User Sentiment**: Evaluates the user's sentiment (positive, neutral, or negative) to determine if escalation is needed.\n",
    "\n",
    "2. **Intelligent Routing**:\n",
    "   - Based on the **query_category** and **query_sentiment**, the system routes the query to the appropriate handling node:\n",
    "     - **Escalate to Human**: If the sentiment is negative, the query is escalated to a human for resolution.\n",
    "     - **Generate Billing Response**: Queries related to billing are routed to generate an appropriate response.\n",
    "     - **Generate Technical Response**: Technical queries are routed for a specialized technical response.\n",
    "     - **Generate General Response**: General queries are handled with context-aware responses.\n",
    "\n",
    "3. **Knowledge Base Integration (RAG)**:\n",
    "   - The system integrates with a **Knowledge Base (Vector Database)** to augment responses with relevant and accurate information.\n",
    "   - Retrieval-Augmented Generation (RAG) ensures that responses are grounded in the latest and most reliable data.\n",
    "\n",
    "4. **Escalation Mechanism**:\n",
    "   - Negative sentiment triggers an **escalation to a human**, ensuring the user receives empathetic and personalized support for critical issues.\n"
   ]
  },
  {
   "cell_type": "markdown",
   "metadata": {
    "id": "9hEI3WL328vZ"
   },
   "source": [
    "## Install OpenAI, LangGraph and LangChain dependencies"
   ]
  },
  {
   "cell_type": "code",
   "execution_count": 1,
   "metadata": {
    "colab": {
     "base_uri": "https://localhost:8080/"
    },
    "id": "dzjE7G_8KOUM",
    "outputId": "070580ae-6b7b-41d0-a707-05343efcb177"
   },
   "outputs": [
    {
     "name": "stdout",
     "output_type": "stream",
     "text": [
      "Collecting langchain==0.3.14\n",
      "  Downloading langchain-0.3.14-py3-none-any.whl.metadata (7.1 kB)\n",
      "Requirement already satisfied: PyYAML>=5.3 in d:\\software\\lib\\site-packages (from langchain==0.3.14) (6.0.1)\n",
      "Requirement already satisfied: SQLAlchemy<3,>=1.4 in d:\\software\\lib\\site-packages (from langchain==0.3.14) (2.0.30)\n",
      "Requirement already satisfied: aiohttp<4.0.0,>=3.8.3 in d:\\software\\lib\\site-packages (from langchain==0.3.14) (3.9.5)\n",
      "Requirement already satisfied: langchain-core<0.4.0,>=0.3.29 in d:\\software\\lib\\site-packages (from langchain==0.3.14) (0.3.43)\n",
      "Requirement already satisfied: langchain-text-splitters<0.4.0,>=0.3.3 in d:\\software\\lib\\site-packages (from langchain==0.3.14) (0.3.6)\n",
      "Requirement already satisfied: langsmith<0.3,>=0.1.17 in d:\\software\\lib\\site-packages (from langchain==0.3.14) (0.1.125)\n",
      "Requirement already satisfied: numpy<3,>=1.26.2 in d:\\software\\lib\\site-packages (from langchain==0.3.14) (1.26.4)\n",
      "Requirement already satisfied: pydantic<3.0.0,>=2.7.4 in d:\\software\\lib\\site-packages (from langchain==0.3.14) (2.9.2)\n",
      "Requirement already satisfied: requests<3,>=2 in d:\\software\\lib\\site-packages (from langchain==0.3.14) (2.32.2)\n",
      "Requirement already satisfied: tenacity!=8.4.0,<10,>=8.1.0 in d:\\software\\lib\\site-packages (from langchain==0.3.14) (8.4.2)\n",
      "Requirement already satisfied: aiosignal>=1.1.2 in d:\\software\\lib\\site-packages (from aiohttp<4.0.0,>=3.8.3->langchain==0.3.14) (1.2.0)\n",
      "Requirement already satisfied: attrs>=17.3.0 in d:\\software\\lib\\site-packages (from aiohttp<4.0.0,>=3.8.3->langchain==0.3.14) (24.2.0)\n",
      "Requirement already satisfied: frozenlist>=1.1.1 in d:\\software\\lib\\site-packages (from aiohttp<4.0.0,>=3.8.3->langchain==0.3.14) (1.4.0)\n",
      "Requirement already satisfied: multidict<7.0,>=4.5 in d:\\software\\lib\\site-packages (from aiohttp<4.0.0,>=3.8.3->langchain==0.3.14) (6.0.4)\n",
      "Requirement already satisfied: yarl<2.0,>=1.0 in d:\\software\\lib\\site-packages (from aiohttp<4.0.0,>=3.8.3->langchain==0.3.14) (1.9.3)\n",
      "Requirement already satisfied: jsonpatch<2.0,>=1.33 in d:\\software\\lib\\site-packages (from langchain-core<0.4.0,>=0.3.29->langchain==0.3.14) (1.33)\n",
      "Requirement already satisfied: packaging<25,>=23.2 in d:\\software\\lib\\site-packages (from langchain-core<0.4.0,>=0.3.29->langchain==0.3.14) (23.2)\n",
      "Requirement already satisfied: typing-extensions>=4.7 in d:\\software\\lib\\site-packages (from langchain-core<0.4.0,>=0.3.29->langchain==0.3.14) (4.11.0)\n",
      "Requirement already satisfied: httpx<1,>=0.23.0 in d:\\software\\lib\\site-packages (from langsmith<0.3,>=0.1.17->langchain==0.3.14) (0.27.2)\n",
      "Requirement already satisfied: orjson<4.0.0,>=3.9.14 in d:\\software\\lib\\site-packages (from langsmith<0.3,>=0.1.17->langchain==0.3.14) (3.10.6)\n",
      "Requirement already satisfied: annotated-types>=0.6.0 in d:\\software\\lib\\site-packages (from pydantic<3.0.0,>=2.7.4->langchain==0.3.14) (0.6.0)\n",
      "Requirement already satisfied: pydantic-core==2.23.4 in d:\\software\\lib\\site-packages (from pydantic<3.0.0,>=2.7.4->langchain==0.3.14) (2.23.4)\n",
      "Requirement already satisfied: charset-normalizer<4,>=2 in d:\\software\\lib\\site-packages (from requests<3,>=2->langchain==0.3.14) (2.0.4)\n",
      "Requirement already satisfied: idna<4,>=2.5 in d:\\software\\lib\\site-packages (from requests<3,>=2->langchain==0.3.14) (3.7)\n",
      "Requirement already satisfied: urllib3<3,>=1.21.1 in d:\\software\\lib\\site-packages (from requests<3,>=2->langchain==0.3.14) (2.2.2)\n",
      "Requirement already satisfied: certifi>=2017.4.17 in d:\\software\\lib\\site-packages (from requests<3,>=2->langchain==0.3.14) (2024.7.4)\n",
      "Requirement already satisfied: greenlet!=0.4.17 in d:\\software\\lib\\site-packages (from SQLAlchemy<3,>=1.4->langchain==0.3.14) (3.0.1)\n",
      "Requirement already satisfied: anyio in d:\\software\\lib\\site-packages (from httpx<1,>=0.23.0->langsmith<0.3,>=0.1.17->langchain==0.3.14) (4.2.0)\n",
      "Requirement already satisfied: httpcore==1.* in d:\\software\\lib\\site-packages (from httpx<1,>=0.23.0->langsmith<0.3,>=0.1.17->langchain==0.3.14) (1.0.2)\n",
      "Requirement already satisfied: sniffio in d:\\software\\lib\\site-packages (from httpx<1,>=0.23.0->langsmith<0.3,>=0.1.17->langchain==0.3.14) (1.3.0)\n",
      "Requirement already satisfied: h11<0.15,>=0.13 in d:\\software\\lib\\site-packages (from httpcore==1.*->httpx<1,>=0.23.0->langsmith<0.3,>=0.1.17->langchain==0.3.14) (0.14.0)\n",
      "Requirement already satisfied: jsonpointer>=1.9 in d:\\software\\lib\\site-packages (from jsonpatch<2.0,>=1.33->langchain-core<0.4.0,>=0.3.29->langchain==0.3.14) (2.1)\n",
      "Downloading langchain-0.3.14-py3-none-any.whl (1.0 MB)\n",
      "   ---------------------------------------- 0.0/1.0 MB ? eta -:--:--\n",
      "   - -------------------------------------- 0.0/1.0 MB 1.4 MB/s eta 0:00:01\n",
      "   ----------- ---------------------------- 0.3/1.0 MB 4.5 MB/s eta 0:00:01\n",
      "   ---------------------------------------- 1.0/1.0 MB 9.2 MB/s eta 0:00:00\n",
      "Installing collected packages: langchain\n",
      "  Attempting uninstall: langchain\n",
      "    Found existing installation: langchain 0.3.20\n",
      "    Uninstalling langchain-0.3.20:\n",
      "      Successfully uninstalled langchain-0.3.20\n",
      "Successfully installed langchain-0.3.14\n"
     ]
    },
    {
     "name": "stderr",
     "output_type": "stream",
     "text": [
      "ERROR: pip's dependency resolver does not currently take into account all the packages that are installed. This behaviour is the source of the following dependency conflicts.\n",
      "deepeval 1.4.7 requires grpcio~=1.63.0, but you have grpcio 1.70.0 which is incompatible.\n",
      "langchain-community 0.3.19 requires langchain<1.0.0,>=0.3.20, but you have langchain 0.3.14 which is incompatible.\n"
     ]
    },
    {
     "name": "stdout",
     "output_type": "stream",
     "text": [
      "Collecting langchain-openai==0.3.0\n",
      "  Downloading langchain_openai-0.3.0-py3-none-any.whl.metadata (2.7 kB)\n",
      "Requirement already satisfied: langchain-core<0.4.0,>=0.3.29 in d:\\software\\lib\\site-packages (from langchain-openai==0.3.0) (0.3.43)\n",
      "Requirement already satisfied: openai<2.0.0,>=1.58.1 in d:\\software\\lib\\site-packages (from langchain-openai==0.3.0) (1.65.5)\n",
      "Requirement already satisfied: tiktoken<1,>=0.7 in d:\\software\\lib\\site-packages (from langchain-openai==0.3.0) (0.7.0)\n",
      "Requirement already satisfied: langsmith<0.4,>=0.1.125 in d:\\software\\lib\\site-packages (from langchain-core<0.4.0,>=0.3.29->langchain-openai==0.3.0) (0.1.125)\n",
      "Requirement already satisfied: tenacity!=8.4.0,<10.0.0,>=8.1.0 in d:\\software\\lib\\site-packages (from langchain-core<0.4.0,>=0.3.29->langchain-openai==0.3.0) (8.4.2)\n",
      "Requirement already satisfied: jsonpatch<2.0,>=1.33 in d:\\software\\lib\\site-packages (from langchain-core<0.4.0,>=0.3.29->langchain-openai==0.3.0) (1.33)\n",
      "Requirement already satisfied: PyYAML>=5.3 in d:\\software\\lib\\site-packages (from langchain-core<0.4.0,>=0.3.29->langchain-openai==0.3.0) (6.0.1)\n",
      "Requirement already satisfied: packaging<25,>=23.2 in d:\\software\\lib\\site-packages (from langchain-core<0.4.0,>=0.3.29->langchain-openai==0.3.0) (23.2)\n",
      "Requirement already satisfied: typing-extensions>=4.7 in d:\\software\\lib\\site-packages (from langchain-core<0.4.0,>=0.3.29->langchain-openai==0.3.0) (4.11.0)\n",
      "Requirement already satisfied: pydantic<3.0.0,>=2.7.4 in d:\\software\\lib\\site-packages (from langchain-core<0.4.0,>=0.3.29->langchain-openai==0.3.0) (2.9.2)\n",
      "Requirement already satisfied: anyio<5,>=3.5.0 in d:\\software\\lib\\site-packages (from openai<2.0.0,>=1.58.1->langchain-openai==0.3.0) (4.2.0)\n",
      "Requirement already satisfied: distro<2,>=1.7.0 in d:\\software\\lib\\site-packages (from openai<2.0.0,>=1.58.1->langchain-openai==0.3.0) (1.9.0)\n",
      "Requirement already satisfied: httpx<1,>=0.23.0 in d:\\software\\lib\\site-packages (from openai<2.0.0,>=1.58.1->langchain-openai==0.3.0) (0.27.2)\n",
      "Requirement already satisfied: jiter<1,>=0.4.0 in d:\\software\\lib\\site-packages (from openai<2.0.0,>=1.58.1->langchain-openai==0.3.0) (0.5.0)\n",
      "Requirement already satisfied: sniffio in d:\\software\\lib\\site-packages (from openai<2.0.0,>=1.58.1->langchain-openai==0.3.0) (1.3.0)\n",
      "Requirement already satisfied: tqdm>4 in d:\\software\\lib\\site-packages (from openai<2.0.0,>=1.58.1->langchain-openai==0.3.0) (4.66.4)\n",
      "Requirement already satisfied: regex>=2022.1.18 in d:\\software\\lib\\site-packages (from tiktoken<1,>=0.7->langchain-openai==0.3.0) (2023.10.3)\n",
      "Requirement already satisfied: requests>=2.26.0 in d:\\software\\lib\\site-packages (from tiktoken<1,>=0.7->langchain-openai==0.3.0) (2.32.2)\n",
      "Requirement already satisfied: idna>=2.8 in d:\\software\\lib\\site-packages (from anyio<5,>=3.5.0->openai<2.0.0,>=1.58.1->langchain-openai==0.3.0) (3.7)\n",
      "Requirement already satisfied: certifi in d:\\software\\lib\\site-packages (from httpx<1,>=0.23.0->openai<2.0.0,>=1.58.1->langchain-openai==0.3.0) (2024.7.4)\n",
      "Requirement already satisfied: httpcore==1.* in d:\\software\\lib\\site-packages (from httpx<1,>=0.23.0->openai<2.0.0,>=1.58.1->langchain-openai==0.3.0) (1.0.2)\n",
      "Requirement already satisfied: h11<0.15,>=0.13 in d:\\software\\lib\\site-packages (from httpcore==1.*->httpx<1,>=0.23.0->openai<2.0.0,>=1.58.1->langchain-openai==0.3.0) (0.14.0)\n",
      "Requirement already satisfied: jsonpointer>=1.9 in d:\\software\\lib\\site-packages (from jsonpatch<2.0,>=1.33->langchain-core<0.4.0,>=0.3.29->langchain-openai==0.3.0) (2.1)\n",
      "Requirement already satisfied: orjson<4.0.0,>=3.9.14 in d:\\software\\lib\\site-packages (from langsmith<0.4,>=0.1.125->langchain-core<0.4.0,>=0.3.29->langchain-openai==0.3.0) (3.10.6)\n",
      "Requirement already satisfied: annotated-types>=0.6.0 in d:\\software\\lib\\site-packages (from pydantic<3.0.0,>=2.7.4->langchain-core<0.4.0,>=0.3.29->langchain-openai==0.3.0) (0.6.0)\n",
      "Requirement already satisfied: pydantic-core==2.23.4 in d:\\software\\lib\\site-packages (from pydantic<3.0.0,>=2.7.4->langchain-core<0.4.0,>=0.3.29->langchain-openai==0.3.0) (2.23.4)\n",
      "Requirement already satisfied: charset-normalizer<4,>=2 in d:\\software\\lib\\site-packages (from requests>=2.26.0->tiktoken<1,>=0.7->langchain-openai==0.3.0) (2.0.4)\n",
      "Requirement already satisfied: urllib3<3,>=1.21.1 in d:\\software\\lib\\site-packages (from requests>=2.26.0->tiktoken<1,>=0.7->langchain-openai==0.3.0) (2.2.2)\n",
      "Requirement already satisfied: colorama in d:\\software\\lib\\site-packages (from tqdm>4->openai<2.0.0,>=1.58.1->langchain-openai==0.3.0) (0.4.6)\n",
      "Downloading langchain_openai-0.3.0-py3-none-any.whl (54 kB)\n",
      "   ---------------------------------------- 0.0/54.2 kB ? eta -:--:--\n",
      "   --------------- ------------------------ 20.5/54.2 kB 330.3 kB/s eta 0:00:01\n",
      "   ---------------------------------------- 54.2/54.2 kB 709.3 kB/s eta 0:00:00\n",
      "Installing collected packages: langchain-openai\n",
      "  Attempting uninstall: langchain-openai\n",
      "    Found existing installation: langchain-openai 0.3.8\n",
      "    Uninstalling langchain-openai-0.3.8:\n",
      "      Successfully uninstalled langchain-openai-0.3.8\n",
      "Successfully installed langchain-openai-0.3.0\n"
     ]
    },
    {
     "name": "stderr",
     "output_type": "stream",
     "text": [
      "ERROR: pip's dependency resolver does not currently take into account all the packages that are installed. This behaviour is the source of the following dependency conflicts.\n",
      "deepeval 1.4.7 requires grpcio~=1.63.0, but you have grpcio 1.70.0 which is incompatible.\n"
     ]
    },
    {
     "name": "stdout",
     "output_type": "stream",
     "text": [
      "Collecting langchain-community==0.3.14\n",
      "  Downloading langchain_community-0.3.14-py3-none-any.whl.metadata (2.9 kB)\n",
      "Requirement already satisfied: PyYAML>=5.3 in d:\\software\\lib\\site-packages (from langchain-community==0.3.14) (6.0.1)\n",
      "Requirement already satisfied: SQLAlchemy<3,>=1.4 in d:\\software\\lib\\site-packages (from langchain-community==0.3.14) (2.0.30)\n",
      "Requirement already satisfied: aiohttp<4.0.0,>=3.8.3 in d:\\software\\lib\\site-packages (from langchain-community==0.3.14) (3.9.5)\n",
      "Requirement already satisfied: dataclasses-json<0.7,>=0.5.7 in d:\\software\\lib\\site-packages (from langchain-community==0.3.14) (0.6.7)\n",
      "Requirement already satisfied: httpx-sse<0.5.0,>=0.4.0 in d:\\software\\lib\\site-packages (from langchain-community==0.3.14) (0.4.0)\n",
      "Requirement already satisfied: langchain<0.4.0,>=0.3.14 in d:\\software\\lib\\site-packages (from langchain-community==0.3.14) (0.3.14)\n",
      "Requirement already satisfied: langchain-core<0.4.0,>=0.3.29 in d:\\software\\lib\\site-packages (from langchain-community==0.3.14) (0.3.43)\n",
      "Requirement already satisfied: langsmith<0.3,>=0.1.125 in d:\\software\\lib\\site-packages (from langchain-community==0.3.14) (0.1.125)\n",
      "Requirement already satisfied: numpy<3,>=1.26.2 in d:\\software\\lib\\site-packages (from langchain-community==0.3.14) (1.26.4)\n",
      "Requirement already satisfied: pydantic-settings<3.0.0,>=2.4.0 in d:\\software\\lib\\site-packages (from langchain-community==0.3.14) (2.6.0)\n",
      "Requirement already satisfied: requests<3,>=2 in d:\\software\\lib\\site-packages (from langchain-community==0.3.14) (2.32.2)\n",
      "Requirement already satisfied: tenacity!=8.4.0,<10,>=8.1.0 in d:\\software\\lib\\site-packages (from langchain-community==0.3.14) (8.4.2)\n",
      "Requirement already satisfied: aiosignal>=1.1.2 in d:\\software\\lib\\site-packages (from aiohttp<4.0.0,>=3.8.3->langchain-community==0.3.14) (1.2.0)\n",
      "Requirement already satisfied: attrs>=17.3.0 in d:\\software\\lib\\site-packages (from aiohttp<4.0.0,>=3.8.3->langchain-community==0.3.14) (24.2.0)\n",
      "Requirement already satisfied: frozenlist>=1.1.1 in d:\\software\\lib\\site-packages (from aiohttp<4.0.0,>=3.8.3->langchain-community==0.3.14) (1.4.0)\n",
      "Requirement already satisfied: multidict<7.0,>=4.5 in d:\\software\\lib\\site-packages (from aiohttp<4.0.0,>=3.8.3->langchain-community==0.3.14) (6.0.4)\n",
      "Requirement already satisfied: yarl<2.0,>=1.0 in d:\\software\\lib\\site-packages (from aiohttp<4.0.0,>=3.8.3->langchain-community==0.3.14) (1.9.3)\n",
      "Requirement already satisfied: marshmallow<4.0.0,>=3.18.0 in d:\\software\\lib\\site-packages (from dataclasses-json<0.7,>=0.5.7->langchain-community==0.3.14) (3.22.0)\n",
      "Requirement already satisfied: typing-inspect<1,>=0.4.0 in d:\\software\\lib\\site-packages (from dataclasses-json<0.7,>=0.5.7->langchain-community==0.3.14) (0.9.0)\n",
      "Requirement already satisfied: langchain-text-splitters<0.4.0,>=0.3.3 in d:\\software\\lib\\site-packages (from langchain<0.4.0,>=0.3.14->langchain-community==0.3.14) (0.3.6)\n",
      "Requirement already satisfied: pydantic<3.0.0,>=2.7.4 in d:\\software\\lib\\site-packages (from langchain<0.4.0,>=0.3.14->langchain-community==0.3.14) (2.9.2)\n",
      "Requirement already satisfied: jsonpatch<2.0,>=1.33 in d:\\software\\lib\\site-packages (from langchain-core<0.4.0,>=0.3.29->langchain-community==0.3.14) (1.33)\n",
      "Requirement already satisfied: packaging<25,>=23.2 in d:\\software\\lib\\site-packages (from langchain-core<0.4.0,>=0.3.29->langchain-community==0.3.14) (23.2)\n",
      "Requirement already satisfied: typing-extensions>=4.7 in d:\\software\\lib\\site-packages (from langchain-core<0.4.0,>=0.3.29->langchain-community==0.3.14) (4.11.0)\n",
      "Requirement already satisfied: httpx<1,>=0.23.0 in d:\\software\\lib\\site-packages (from langsmith<0.3,>=0.1.125->langchain-community==0.3.14) (0.27.2)\n",
      "Requirement already satisfied: orjson<4.0.0,>=3.9.14 in d:\\software\\lib\\site-packages (from langsmith<0.3,>=0.1.125->langchain-community==0.3.14) (3.10.6)\n",
      "Requirement already satisfied: python-dotenv>=0.21.0 in d:\\software\\lib\\site-packages (from pydantic-settings<3.0.0,>=2.4.0->langchain-community==0.3.14) (0.21.0)\n",
      "Requirement already satisfied: charset-normalizer<4,>=2 in d:\\software\\lib\\site-packages (from requests<3,>=2->langchain-community==0.3.14) (2.0.4)\n",
      "Requirement already satisfied: idna<4,>=2.5 in d:\\software\\lib\\site-packages (from requests<3,>=2->langchain-community==0.3.14) (3.7)\n",
      "Requirement already satisfied: urllib3<3,>=1.21.1 in d:\\software\\lib\\site-packages (from requests<3,>=2->langchain-community==0.3.14) (2.2.2)\n",
      "Requirement already satisfied: certifi>=2017.4.17 in d:\\software\\lib\\site-packages (from requests<3,>=2->langchain-community==0.3.14) (2024.7.4)\n",
      "Requirement already satisfied: greenlet!=0.4.17 in d:\\software\\lib\\site-packages (from SQLAlchemy<3,>=1.4->langchain-community==0.3.14) (3.0.1)\n",
      "Requirement already satisfied: anyio in d:\\software\\lib\\site-packages (from httpx<1,>=0.23.0->langsmith<0.3,>=0.1.125->langchain-community==0.3.14) (4.2.0)\n",
      "Requirement already satisfied: httpcore==1.* in d:\\software\\lib\\site-packages (from httpx<1,>=0.23.0->langsmith<0.3,>=0.1.125->langchain-community==0.3.14) (1.0.2)\n",
      "Requirement already satisfied: sniffio in d:\\software\\lib\\site-packages (from httpx<1,>=0.23.0->langsmith<0.3,>=0.1.125->langchain-community==0.3.14) (1.3.0)\n",
      "Requirement already satisfied: h11<0.15,>=0.13 in d:\\software\\lib\\site-packages (from httpcore==1.*->httpx<1,>=0.23.0->langsmith<0.3,>=0.1.125->langchain-community==0.3.14) (0.14.0)\n",
      "Requirement already satisfied: jsonpointer>=1.9 in d:\\software\\lib\\site-packages (from jsonpatch<2.0,>=1.33->langchain-core<0.4.0,>=0.3.29->langchain-community==0.3.14) (2.1)\n",
      "Requirement already satisfied: annotated-types>=0.6.0 in d:\\software\\lib\\site-packages (from pydantic<3.0.0,>=2.7.4->langchain<0.4.0,>=0.3.14->langchain-community==0.3.14) (0.6.0)\n",
      "Requirement already satisfied: pydantic-core==2.23.4 in d:\\software\\lib\\site-packages (from pydantic<3.0.0,>=2.7.4->langchain<0.4.0,>=0.3.14->langchain-community==0.3.14) (2.23.4)\n",
      "Requirement already satisfied: mypy-extensions>=0.3.0 in d:\\software\\lib\\site-packages (from typing-inspect<1,>=0.4.0->dataclasses-json<0.7,>=0.5.7->langchain-community==0.3.14) (1.0.0)\n",
      "Downloading langchain_community-0.3.14-py3-none-any.whl (2.5 MB)\n",
      "   ---------------------------------------- 0.0/2.5 MB ? eta -:--:--\n",
      "   ---------------------------------------- 0.0/2.5 MB ? eta -:--:--\n",
      "   - -------------------------------------- 0.1/2.5 MB 1.5 MB/s eta 0:00:02\n",
      "   ------ --------------------------------- 0.4/2.5 MB 3.6 MB/s eta 0:00:01\n",
      "   ------------ --------------------------- 0.8/2.5 MB 5.0 MB/s eta 0:00:01\n",
      "   ------------------- -------------------- 1.2/2.5 MB 6.0 MB/s eta 0:00:01\n",
      "   ---------------------------- ----------- 1.8/2.5 MB 7.0 MB/s eta 0:00:01\n",
      "   -------------------------------------- - 2.4/2.5 MB 8.1 MB/s eta 0:00:01\n",
      "   ---------------------------------------- 2.5/2.5 MB 8.0 MB/s eta 0:00:00\n",
      "Installing collected packages: langchain-community\n",
      "  Attempting uninstall: langchain-community\n",
      "    Found existing installation: langchain-community 0.3.19\n",
      "    Uninstalling langchain-community-0.3.19:\n",
      "      Successfully uninstalled langchain-community-0.3.19\n",
      "Successfully installed langchain-community-0.3.14\n",
      "Collecting langgraph==0.2.64\n",
      "  Downloading langgraph-0.2.64-py3-none-any.whl.metadata (16 kB)\n",
      "Requirement already satisfied: langchain-core!=0.3.0,!=0.3.1,!=0.3.10,!=0.3.11,!=0.3.12,!=0.3.13,!=0.3.14,!=0.3.15,!=0.3.16,!=0.3.17,!=0.3.18,!=0.3.19,!=0.3.2,!=0.3.20,!=0.3.21,!=0.3.22,!=0.3.3,!=0.3.4,!=0.3.5,!=0.3.6,!=0.3.7,!=0.3.8,!=0.3.9,<0.4.0,>=0.2.43 in d:\\software\\lib\\site-packages (from langgraph==0.2.64) (0.3.43)\n",
      "Requirement already satisfied: langgraph-checkpoint<3.0.0,>=2.0.10 in d:\\software\\lib\\site-packages (from langgraph==0.2.64) (2.0.16)\n",
      "Requirement already satisfied: langgraph-sdk<0.2.0,>=0.1.42 in d:\\software\\lib\\site-packages (from langgraph==0.2.64) (0.1.53)\n",
      "Requirement already satisfied: langsmith<0.4,>=0.1.125 in d:\\software\\lib\\site-packages (from langchain-core!=0.3.0,!=0.3.1,!=0.3.10,!=0.3.11,!=0.3.12,!=0.3.13,!=0.3.14,!=0.3.15,!=0.3.16,!=0.3.17,!=0.3.18,!=0.3.19,!=0.3.2,!=0.3.20,!=0.3.21,!=0.3.22,!=0.3.3,!=0.3.4,!=0.3.5,!=0.3.6,!=0.3.7,!=0.3.8,!=0.3.9,<0.4.0,>=0.2.43->langgraph==0.2.64) (0.1.125)\n",
      "Requirement already satisfied: tenacity!=8.4.0,<10.0.0,>=8.1.0 in d:\\software\\lib\\site-packages (from langchain-core!=0.3.0,!=0.3.1,!=0.3.10,!=0.3.11,!=0.3.12,!=0.3.13,!=0.3.14,!=0.3.15,!=0.3.16,!=0.3.17,!=0.3.18,!=0.3.19,!=0.3.2,!=0.3.20,!=0.3.21,!=0.3.22,!=0.3.3,!=0.3.4,!=0.3.5,!=0.3.6,!=0.3.7,!=0.3.8,!=0.3.9,<0.4.0,>=0.2.43->langgraph==0.2.64) (8.4.2)\n",
      "Requirement already satisfied: jsonpatch<2.0,>=1.33 in d:\\software\\lib\\site-packages (from langchain-core!=0.3.0,!=0.3.1,!=0.3.10,!=0.3.11,!=0.3.12,!=0.3.13,!=0.3.14,!=0.3.15,!=0.3.16,!=0.3.17,!=0.3.18,!=0.3.19,!=0.3.2,!=0.3.20,!=0.3.21,!=0.3.22,!=0.3.3,!=0.3.4,!=0.3.5,!=0.3.6,!=0.3.7,!=0.3.8,!=0.3.9,<0.4.0,>=0.2.43->langgraph==0.2.64) (1.33)\n",
      "Requirement already satisfied: PyYAML>=5.3 in d:\\software\\lib\\site-packages (from langchain-core!=0.3.0,!=0.3.1,!=0.3.10,!=0.3.11,!=0.3.12,!=0.3.13,!=0.3.14,!=0.3.15,!=0.3.16,!=0.3.17,!=0.3.18,!=0.3.19,!=0.3.2,!=0.3.20,!=0.3.21,!=0.3.22,!=0.3.3,!=0.3.4,!=0.3.5,!=0.3.6,!=0.3.7,!=0.3.8,!=0.3.9,<0.4.0,>=0.2.43->langgraph==0.2.64) (6.0.1)\n",
      "Requirement already satisfied: packaging<25,>=23.2 in d:\\software\\lib\\site-packages (from langchain-core!=0.3.0,!=0.3.1,!=0.3.10,!=0.3.11,!=0.3.12,!=0.3.13,!=0.3.14,!=0.3.15,!=0.3.16,!=0.3.17,!=0.3.18,!=0.3.19,!=0.3.2,!=0.3.20,!=0.3.21,!=0.3.22,!=0.3.3,!=0.3.4,!=0.3.5,!=0.3.6,!=0.3.7,!=0.3.8,!=0.3.9,<0.4.0,>=0.2.43->langgraph==0.2.64) (23.2)\n",
      "Requirement already satisfied: typing-extensions>=4.7 in d:\\software\\lib\\site-packages (from langchain-core!=0.3.0,!=0.3.1,!=0.3.10,!=0.3.11,!=0.3.12,!=0.3.13,!=0.3.14,!=0.3.15,!=0.3.16,!=0.3.17,!=0.3.18,!=0.3.19,!=0.3.2,!=0.3.20,!=0.3.21,!=0.3.22,!=0.3.3,!=0.3.4,!=0.3.5,!=0.3.6,!=0.3.7,!=0.3.8,!=0.3.9,<0.4.0,>=0.2.43->langgraph==0.2.64) (4.11.0)\n",
      "Requirement already satisfied: pydantic<3.0.0,>=2.7.4 in d:\\software\\lib\\site-packages (from langchain-core!=0.3.0,!=0.3.1,!=0.3.10,!=0.3.11,!=0.3.12,!=0.3.13,!=0.3.14,!=0.3.15,!=0.3.16,!=0.3.17,!=0.3.18,!=0.3.19,!=0.3.2,!=0.3.20,!=0.3.21,!=0.3.22,!=0.3.3,!=0.3.4,!=0.3.5,!=0.3.6,!=0.3.7,!=0.3.8,!=0.3.9,<0.4.0,>=0.2.43->langgraph==0.2.64) (2.9.2)\n",
      "Requirement already satisfied: msgpack<2.0.0,>=1.1.0 in d:\\software\\lib\\site-packages (from langgraph-checkpoint<3.0.0,>=2.0.10->langgraph==0.2.64) (1.1.0)\n",
      "Requirement already satisfied: httpx>=0.25.2 in d:\\software\\lib\\site-packages (from langgraph-sdk<0.2.0,>=0.1.42->langgraph==0.2.64) (0.27.2)\n",
      "Requirement already satisfied: orjson>=3.10.1 in d:\\software\\lib\\site-packages (from langgraph-sdk<0.2.0,>=0.1.42->langgraph==0.2.64) (3.10.6)\n",
      "Requirement already satisfied: anyio in d:\\software\\lib\\site-packages (from httpx>=0.25.2->langgraph-sdk<0.2.0,>=0.1.42->langgraph==0.2.64) (4.2.0)\n",
      "Requirement already satisfied: certifi in d:\\software\\lib\\site-packages (from httpx>=0.25.2->langgraph-sdk<0.2.0,>=0.1.42->langgraph==0.2.64) (2024.7.4)\n",
      "Requirement already satisfied: httpcore==1.* in d:\\software\\lib\\site-packages (from httpx>=0.25.2->langgraph-sdk<0.2.0,>=0.1.42->langgraph==0.2.64) (1.0.2)\n",
      "Requirement already satisfied: idna in d:\\software\\lib\\site-packages (from httpx>=0.25.2->langgraph-sdk<0.2.0,>=0.1.42->langgraph==0.2.64) (3.7)\n",
      "Requirement already satisfied: sniffio in d:\\software\\lib\\site-packages (from httpx>=0.25.2->langgraph-sdk<0.2.0,>=0.1.42->langgraph==0.2.64) (1.3.0)\n",
      "Requirement already satisfied: h11<0.15,>=0.13 in d:\\software\\lib\\site-packages (from httpcore==1.*->httpx>=0.25.2->langgraph-sdk<0.2.0,>=0.1.42->langgraph==0.2.64) (0.14.0)\n",
      "Requirement already satisfied: jsonpointer>=1.9 in d:\\software\\lib\\site-packages (from jsonpatch<2.0,>=1.33->langchain-core!=0.3.0,!=0.3.1,!=0.3.10,!=0.3.11,!=0.3.12,!=0.3.13,!=0.3.14,!=0.3.15,!=0.3.16,!=0.3.17,!=0.3.18,!=0.3.19,!=0.3.2,!=0.3.20,!=0.3.21,!=0.3.22,!=0.3.3,!=0.3.4,!=0.3.5,!=0.3.6,!=0.3.7,!=0.3.8,!=0.3.9,<0.4.0,>=0.2.43->langgraph==0.2.64) (2.1)\n",
      "Requirement already satisfied: requests<3,>=2 in d:\\software\\lib\\site-packages (from langsmith<0.4,>=0.1.125->langchain-core!=0.3.0,!=0.3.1,!=0.3.10,!=0.3.11,!=0.3.12,!=0.3.13,!=0.3.14,!=0.3.15,!=0.3.16,!=0.3.17,!=0.3.18,!=0.3.19,!=0.3.2,!=0.3.20,!=0.3.21,!=0.3.22,!=0.3.3,!=0.3.4,!=0.3.5,!=0.3.6,!=0.3.7,!=0.3.8,!=0.3.9,<0.4.0,>=0.2.43->langgraph==0.2.64) (2.32.2)\n",
      "Requirement already satisfied: annotated-types>=0.6.0 in d:\\software\\lib\\site-packages (from pydantic<3.0.0,>=2.7.4->langchain-core!=0.3.0,!=0.3.1,!=0.3.10,!=0.3.11,!=0.3.12,!=0.3.13,!=0.3.14,!=0.3.15,!=0.3.16,!=0.3.17,!=0.3.18,!=0.3.19,!=0.3.2,!=0.3.20,!=0.3.21,!=0.3.22,!=0.3.3,!=0.3.4,!=0.3.5,!=0.3.6,!=0.3.7,!=0.3.8,!=0.3.9,<0.4.0,>=0.2.43->langgraph==0.2.64) (0.6.0)\n",
      "Requirement already satisfied: pydantic-core==2.23.4 in d:\\software\\lib\\site-packages (from pydantic<3.0.0,>=2.7.4->langchain-core!=0.3.0,!=0.3.1,!=0.3.10,!=0.3.11,!=0.3.12,!=0.3.13,!=0.3.14,!=0.3.15,!=0.3.16,!=0.3.17,!=0.3.18,!=0.3.19,!=0.3.2,!=0.3.20,!=0.3.21,!=0.3.22,!=0.3.3,!=0.3.4,!=0.3.5,!=0.3.6,!=0.3.7,!=0.3.8,!=0.3.9,<0.4.0,>=0.2.43->langgraph==0.2.64) (2.23.4)\n",
      "Requirement already satisfied: charset-normalizer<4,>=2 in d:\\software\\lib\\site-packages (from requests<3,>=2->langsmith<0.4,>=0.1.125->langchain-core!=0.3.0,!=0.3.1,!=0.3.10,!=0.3.11,!=0.3.12,!=0.3.13,!=0.3.14,!=0.3.15,!=0.3.16,!=0.3.17,!=0.3.18,!=0.3.19,!=0.3.2,!=0.3.20,!=0.3.21,!=0.3.22,!=0.3.3,!=0.3.4,!=0.3.5,!=0.3.6,!=0.3.7,!=0.3.8,!=0.3.9,<0.4.0,>=0.2.43->langgraph==0.2.64) (2.0.4)\n",
      "Requirement already satisfied: urllib3<3,>=1.21.1 in d:\\software\\lib\\site-packages (from requests<3,>=2->langsmith<0.4,>=0.1.125->langchain-core!=0.3.0,!=0.3.1,!=0.3.10,!=0.3.11,!=0.3.12,!=0.3.13,!=0.3.14,!=0.3.15,!=0.3.16,!=0.3.17,!=0.3.18,!=0.3.19,!=0.3.2,!=0.3.20,!=0.3.21,!=0.3.22,!=0.3.3,!=0.3.4,!=0.3.5,!=0.3.6,!=0.3.7,!=0.3.8,!=0.3.9,<0.4.0,>=0.2.43->langgraph==0.2.64) (2.2.2)\n",
      "Downloading langgraph-0.2.64-py3-none-any.whl (142 kB)\n",
      "   ---------------------------------------- 0.0/142.6 kB ? eta -:--:--\n",
      "   ----------- ---------------------------- 41.0/142.6 kB 2.0 MB/s eta 0:00:01\n",
      "   ---------------------------------------- 142.6/142.6 kB 2.8 MB/s eta 0:00:00\n",
      "Installing collected packages: langgraph\n",
      "  Attempting uninstall: langgraph\n",
      "    Found existing installation: langgraph 0.3.5\n",
      "    Uninstalling langgraph-0.3.5:\n",
      "      Successfully uninstalled langgraph-0.3.5\n",
      "Successfully installed langgraph-0.2.64\n"
     ]
    },
    {
     "name": "stderr",
     "output_type": "stream",
     "text": [
      "ERROR: pip's dependency resolver does not currently take into account all the packages that are installed. This behaviour is the source of the following dependency conflicts.\n",
      "langgraph-supervisor 0.0.8 requires langgraph<0.4.0,>=0.3.5, but you have langgraph 0.2.64 which is incompatible.\n"
     ]
    }
   ],
   "source": [
    "!pip install langchain==0.3.14\n",
    "!pip install langchain-openai==0.3.0\n",
    "!pip install langchain-community==0.3.14\n",
    "!pip install langgraph==0.2.64"
   ]
  },
  {
   "cell_type": "code",
   "execution_count": 2,
   "metadata": {
    "colab": {
     "base_uri": "https://localhost:8080/"
    },
    "id": "f64P4sY6RtNA",
    "outputId": "5d33879b-6178-418e-d682-b21f21ab502a"
   },
   "outputs": [
    {
     "name": "stdout",
     "output_type": "stream",
     "text": [
      "Collecting langchain-chroma==0.2.0\n",
      "  Downloading langchain_chroma-0.2.0-py3-none-any.whl.metadata (1.7 kB)\n",
      "Requirement already satisfied: chromadb!=0.5.10,!=0.5.11,!=0.5.12,!=0.5.4,!=0.5.5,!=0.5.7,!=0.5.9,<0.6.0,>=0.4.0 in d:\\software\\lib\\site-packages (from langchain-chroma==0.2.0) (0.5.15)\n",
      "Requirement already satisfied: fastapi<1,>=0.95.2 in d:\\software\\lib\\site-packages (from langchain-chroma==0.2.0) (0.115.2)\n",
      "Requirement already satisfied: langchain-core!=0.3.0,!=0.3.1,!=0.3.10,!=0.3.11,!=0.3.12,!=0.3.13,!=0.3.14,!=0.3.2,!=0.3.3,!=0.3.4,!=0.3.5,!=0.3.6,!=0.3.7,!=0.3.8,!=0.3.9,<0.4.0,>=0.2.43 in d:\\software\\lib\\site-packages (from langchain-chroma==0.2.0) (0.3.43)\n",
      "Requirement already satisfied: numpy<2.0.0,>=1.26.2 in d:\\software\\lib\\site-packages (from langchain-chroma==0.2.0) (1.26.4)\n",
      "Requirement already satisfied: build>=1.0.3 in d:\\software\\lib\\site-packages (from chromadb!=0.5.10,!=0.5.11,!=0.5.12,!=0.5.4,!=0.5.5,!=0.5.7,!=0.5.9,<0.6.0,>=0.4.0->langchain-chroma==0.2.0) (1.2.2.post1)\n",
      "Requirement already satisfied: pydantic>=1.9 in d:\\software\\lib\\site-packages (from chromadb!=0.5.10,!=0.5.11,!=0.5.12,!=0.5.4,!=0.5.5,!=0.5.7,!=0.5.9,<0.6.0,>=0.4.0->langchain-chroma==0.2.0) (2.9.2)\n",
      "Requirement already satisfied: chroma-hnswlib==0.7.6 in d:\\software\\lib\\site-packages (from chromadb!=0.5.10,!=0.5.11,!=0.5.12,!=0.5.4,!=0.5.5,!=0.5.7,!=0.5.9,<0.6.0,>=0.4.0->langchain-chroma==0.2.0) (0.7.6)\n",
      "Requirement already satisfied: uvicorn>=0.18.3 in d:\\software\\lib\\site-packages (from uvicorn[standard]>=0.18.3->chromadb!=0.5.10,!=0.5.11,!=0.5.12,!=0.5.4,!=0.5.5,!=0.5.7,!=0.5.9,<0.6.0,>=0.4.0->langchain-chroma==0.2.0) (0.32.0)\n",
      "Requirement already satisfied: posthog>=2.4.0 in d:\\software\\lib\\site-packages (from chromadb!=0.5.10,!=0.5.11,!=0.5.12,!=0.5.4,!=0.5.5,!=0.5.7,!=0.5.9,<0.6.0,>=0.4.0->langchain-chroma==0.2.0) (3.7.0)\n",
      "Requirement already satisfied: typing-extensions>=4.5.0 in d:\\software\\lib\\site-packages (from chromadb!=0.5.10,!=0.5.11,!=0.5.12,!=0.5.4,!=0.5.5,!=0.5.7,!=0.5.9,<0.6.0,>=0.4.0->langchain-chroma==0.2.0) (4.11.0)\n",
      "Requirement already satisfied: onnxruntime>=1.14.1 in d:\\software\\lib\\site-packages (from chromadb!=0.5.10,!=0.5.11,!=0.5.12,!=0.5.4,!=0.5.5,!=0.5.7,!=0.5.9,<0.6.0,>=0.4.0->langchain-chroma==0.2.0) (1.19.2)\n",
      "Requirement already satisfied: opentelemetry-api>=1.2.0 in d:\\software\\lib\\site-packages (from chromadb!=0.5.10,!=0.5.11,!=0.5.12,!=0.5.4,!=0.5.5,!=0.5.7,!=0.5.9,<0.6.0,>=0.4.0->langchain-chroma==0.2.0) (1.24.0)\n",
      "Requirement already satisfied: opentelemetry-exporter-otlp-proto-grpc>=1.2.0 in d:\\software\\lib\\site-packages (from chromadb!=0.5.10,!=0.5.11,!=0.5.12,!=0.5.4,!=0.5.5,!=0.5.7,!=0.5.9,<0.6.0,>=0.4.0->langchain-chroma==0.2.0) (1.24.0)\n",
      "Requirement already satisfied: opentelemetry-instrumentation-fastapi>=0.41b0 in d:\\software\\lib\\site-packages (from chromadb!=0.5.10,!=0.5.11,!=0.5.12,!=0.5.4,!=0.5.5,!=0.5.7,!=0.5.9,<0.6.0,>=0.4.0->langchain-chroma==0.2.0) (0.45b0)\n",
      "Requirement already satisfied: opentelemetry-sdk>=1.2.0 in d:\\software\\lib\\site-packages (from chromadb!=0.5.10,!=0.5.11,!=0.5.12,!=0.5.4,!=0.5.5,!=0.5.7,!=0.5.9,<0.6.0,>=0.4.0->langchain-chroma==0.2.0) (1.24.0)\n",
      "Requirement already satisfied: tokenizers>=0.13.2 in d:\\software\\lib\\site-packages (from chromadb!=0.5.10,!=0.5.11,!=0.5.12,!=0.5.4,!=0.5.5,!=0.5.7,!=0.5.9,<0.6.0,>=0.4.0->langchain-chroma==0.2.0) (0.19.1)\n",
      "Requirement already satisfied: pypika>=0.48.9 in d:\\software\\lib\\site-packages (from chromadb!=0.5.10,!=0.5.11,!=0.5.12,!=0.5.4,!=0.5.5,!=0.5.7,!=0.5.9,<0.6.0,>=0.4.0->langchain-chroma==0.2.0) (0.48.9)\n",
      "Requirement already satisfied: tqdm>=4.65.0 in d:\\software\\lib\\site-packages (from chromadb!=0.5.10,!=0.5.11,!=0.5.12,!=0.5.4,!=0.5.5,!=0.5.7,!=0.5.9,<0.6.0,>=0.4.0->langchain-chroma==0.2.0) (4.66.4)\n",
      "Requirement already satisfied: overrides>=7.3.1 in d:\\software\\lib\\site-packages (from chromadb!=0.5.10,!=0.5.11,!=0.5.12,!=0.5.4,!=0.5.5,!=0.5.7,!=0.5.9,<0.6.0,>=0.4.0->langchain-chroma==0.2.0) (7.4.0)\n",
      "Requirement already satisfied: importlib-resources in d:\\software\\lib\\site-packages (from chromadb!=0.5.10,!=0.5.11,!=0.5.12,!=0.5.4,!=0.5.5,!=0.5.7,!=0.5.9,<0.6.0,>=0.4.0->langchain-chroma==0.2.0) (6.4.0)\n",
      "Requirement already satisfied: grpcio>=1.58.0 in d:\\software\\lib\\site-packages (from chromadb!=0.5.10,!=0.5.11,!=0.5.12,!=0.5.4,!=0.5.5,!=0.5.7,!=0.5.9,<0.6.0,>=0.4.0->langchain-chroma==0.2.0) (1.70.0)\n",
      "Requirement already satisfied: bcrypt>=4.0.1 in d:\\software\\lib\\site-packages (from chromadb!=0.5.10,!=0.5.11,!=0.5.12,!=0.5.4,!=0.5.5,!=0.5.7,!=0.5.9,<0.6.0,>=0.4.0->langchain-chroma==0.2.0) (4.2.0)\n",
      "Requirement already satisfied: typer>=0.9.0 in d:\\software\\lib\\site-packages (from chromadb!=0.5.10,!=0.5.11,!=0.5.12,!=0.5.4,!=0.5.5,!=0.5.7,!=0.5.9,<0.6.0,>=0.4.0->langchain-chroma==0.2.0) (0.12.5)\n",
      "Requirement already satisfied: kubernetes>=28.1.0 in d:\\software\\lib\\site-packages (from chromadb!=0.5.10,!=0.5.11,!=0.5.12,!=0.5.4,!=0.5.5,!=0.5.7,!=0.5.9,<0.6.0,>=0.4.0->langchain-chroma==0.2.0) (31.0.0)\n",
      "Requirement already satisfied: tenacity>=8.2.3 in d:\\software\\lib\\site-packages (from chromadb!=0.5.10,!=0.5.11,!=0.5.12,!=0.5.4,!=0.5.5,!=0.5.7,!=0.5.9,<0.6.0,>=0.4.0->langchain-chroma==0.2.0) (8.4.2)\n",
      "Requirement already satisfied: PyYAML>=6.0.0 in d:\\software\\lib\\site-packages (from chromadb!=0.5.10,!=0.5.11,!=0.5.12,!=0.5.4,!=0.5.5,!=0.5.7,!=0.5.9,<0.6.0,>=0.4.0->langchain-chroma==0.2.0) (6.0.1)\n",
      "Requirement already satisfied: mmh3>=4.0.1 in d:\\software\\lib\\site-packages (from chromadb!=0.5.10,!=0.5.11,!=0.5.12,!=0.5.4,!=0.5.5,!=0.5.7,!=0.5.9,<0.6.0,>=0.4.0->langchain-chroma==0.2.0) (5.0.1)\n",
      "Requirement already satisfied: orjson>=3.9.12 in d:\\software\\lib\\site-packages (from chromadb!=0.5.10,!=0.5.11,!=0.5.12,!=0.5.4,!=0.5.5,!=0.5.7,!=0.5.9,<0.6.0,>=0.4.0->langchain-chroma==0.2.0) (3.10.6)\n",
      "Requirement already satisfied: httpx>=0.27.0 in d:\\software\\lib\\site-packages (from chromadb!=0.5.10,!=0.5.11,!=0.5.12,!=0.5.4,!=0.5.5,!=0.5.7,!=0.5.9,<0.6.0,>=0.4.0->langchain-chroma==0.2.0) (0.27.2)\n",
      "Requirement already satisfied: rich>=10.11.0 in d:\\software\\lib\\site-packages (from chromadb!=0.5.10,!=0.5.11,!=0.5.12,!=0.5.4,!=0.5.5,!=0.5.7,!=0.5.9,<0.6.0,>=0.4.0->langchain-chroma==0.2.0) (13.3.5)\n",
      "Requirement already satisfied: starlette<0.41.0,>=0.37.2 in d:\\software\\lib\\site-packages (from fastapi<1,>=0.95.2->langchain-chroma==0.2.0) (0.40.0)\n",
      "Requirement already satisfied: langsmith<0.4,>=0.1.125 in d:\\software\\lib\\site-packages (from langchain-core!=0.3.0,!=0.3.1,!=0.3.10,!=0.3.11,!=0.3.12,!=0.3.13,!=0.3.14,!=0.3.2,!=0.3.3,!=0.3.4,!=0.3.5,!=0.3.6,!=0.3.7,!=0.3.8,!=0.3.9,<0.4.0,>=0.2.43->langchain-chroma==0.2.0) (0.1.125)\n",
      "Requirement already satisfied: jsonpatch<2.0,>=1.33 in d:\\software\\lib\\site-packages (from langchain-core!=0.3.0,!=0.3.1,!=0.3.10,!=0.3.11,!=0.3.12,!=0.3.13,!=0.3.14,!=0.3.2,!=0.3.3,!=0.3.4,!=0.3.5,!=0.3.6,!=0.3.7,!=0.3.8,!=0.3.9,<0.4.0,>=0.2.43->langchain-chroma==0.2.0) (1.33)\n",
      "Requirement already satisfied: packaging<25,>=23.2 in d:\\software\\lib\\site-packages (from langchain-core!=0.3.0,!=0.3.1,!=0.3.10,!=0.3.11,!=0.3.12,!=0.3.13,!=0.3.14,!=0.3.2,!=0.3.3,!=0.3.4,!=0.3.5,!=0.3.6,!=0.3.7,!=0.3.8,!=0.3.9,<0.4.0,>=0.2.43->langchain-chroma==0.2.0) (23.2)\n",
      "Requirement already satisfied: pyproject_hooks in d:\\software\\lib\\site-packages (from build>=1.0.3->chromadb!=0.5.10,!=0.5.11,!=0.5.12,!=0.5.4,!=0.5.5,!=0.5.7,!=0.5.9,<0.6.0,>=0.4.0->langchain-chroma==0.2.0) (1.2.0)\n",
      "Requirement already satisfied: colorama in d:\\software\\lib\\site-packages (from build>=1.0.3->chromadb!=0.5.10,!=0.5.11,!=0.5.12,!=0.5.4,!=0.5.5,!=0.5.7,!=0.5.9,<0.6.0,>=0.4.0->langchain-chroma==0.2.0) (0.4.6)\n",
      "Requirement already satisfied: anyio in d:\\software\\lib\\site-packages (from httpx>=0.27.0->chromadb!=0.5.10,!=0.5.11,!=0.5.12,!=0.5.4,!=0.5.5,!=0.5.7,!=0.5.9,<0.6.0,>=0.4.0->langchain-chroma==0.2.0) (4.2.0)\n",
      "Requirement already satisfied: certifi in d:\\software\\lib\\site-packages (from httpx>=0.27.0->chromadb!=0.5.10,!=0.5.11,!=0.5.12,!=0.5.4,!=0.5.5,!=0.5.7,!=0.5.9,<0.6.0,>=0.4.0->langchain-chroma==0.2.0) (2024.7.4)\n",
      "Requirement already satisfied: httpcore==1.* in d:\\software\\lib\\site-packages (from httpx>=0.27.0->chromadb!=0.5.10,!=0.5.11,!=0.5.12,!=0.5.4,!=0.5.5,!=0.5.7,!=0.5.9,<0.6.0,>=0.4.0->langchain-chroma==0.2.0) (1.0.2)\n",
      "Requirement already satisfied: idna in d:\\software\\lib\\site-packages (from httpx>=0.27.0->chromadb!=0.5.10,!=0.5.11,!=0.5.12,!=0.5.4,!=0.5.5,!=0.5.7,!=0.5.9,<0.6.0,>=0.4.0->langchain-chroma==0.2.0) (3.7)\n",
      "Requirement already satisfied: sniffio in d:\\software\\lib\\site-packages (from httpx>=0.27.0->chromadb!=0.5.10,!=0.5.11,!=0.5.12,!=0.5.4,!=0.5.5,!=0.5.7,!=0.5.9,<0.6.0,>=0.4.0->langchain-chroma==0.2.0) (1.3.0)\n",
      "Requirement already satisfied: h11<0.15,>=0.13 in d:\\software\\lib\\site-packages (from httpcore==1.*->httpx>=0.27.0->chromadb!=0.5.10,!=0.5.11,!=0.5.12,!=0.5.4,!=0.5.5,!=0.5.7,!=0.5.9,<0.6.0,>=0.4.0->langchain-chroma==0.2.0) (0.14.0)\n",
      "Requirement already satisfied: jsonpointer>=1.9 in d:\\software\\lib\\site-packages (from jsonpatch<2.0,>=1.33->langchain-core!=0.3.0,!=0.3.1,!=0.3.10,!=0.3.11,!=0.3.12,!=0.3.13,!=0.3.14,!=0.3.2,!=0.3.3,!=0.3.4,!=0.3.5,!=0.3.6,!=0.3.7,!=0.3.8,!=0.3.9,<0.4.0,>=0.2.43->langchain-chroma==0.2.0) (2.1)\n",
      "Requirement already satisfied: six>=1.9.0 in d:\\software\\lib\\site-packages (from kubernetes>=28.1.0->chromadb!=0.5.10,!=0.5.11,!=0.5.12,!=0.5.4,!=0.5.5,!=0.5.7,!=0.5.9,<0.6.0,>=0.4.0->langchain-chroma==0.2.0) (1.16.0)\n",
      "Requirement already satisfied: python-dateutil>=2.5.3 in d:\\software\\lib\\site-packages (from kubernetes>=28.1.0->chromadb!=0.5.10,!=0.5.11,!=0.5.12,!=0.5.4,!=0.5.5,!=0.5.7,!=0.5.9,<0.6.0,>=0.4.0->langchain-chroma==0.2.0) (2.8.2)\n",
      "Requirement already satisfied: google-auth>=1.0.1 in d:\\software\\lib\\site-packages (from kubernetes>=28.1.0->chromadb!=0.5.10,!=0.5.11,!=0.5.12,!=0.5.4,!=0.5.5,!=0.5.7,!=0.5.9,<0.6.0,>=0.4.0->langchain-chroma==0.2.0) (2.34.0)\n",
      "Requirement already satisfied: websocket-client!=0.40.0,!=0.41.*,!=0.42.*,>=0.32.0 in d:\\software\\lib\\site-packages (from kubernetes>=28.1.0->chromadb!=0.5.10,!=0.5.11,!=0.5.12,!=0.5.4,!=0.5.5,!=0.5.7,!=0.5.9,<0.6.0,>=0.4.0->langchain-chroma==0.2.0) (1.8.0)\n",
      "Requirement already satisfied: requests in d:\\software\\lib\\site-packages (from kubernetes>=28.1.0->chromadb!=0.5.10,!=0.5.11,!=0.5.12,!=0.5.4,!=0.5.5,!=0.5.7,!=0.5.9,<0.6.0,>=0.4.0->langchain-chroma==0.2.0) (2.32.2)\n",
      "Requirement already satisfied: requests-oauthlib in d:\\software\\lib\\site-packages (from kubernetes>=28.1.0->chromadb!=0.5.10,!=0.5.11,!=0.5.12,!=0.5.4,!=0.5.5,!=0.5.7,!=0.5.9,<0.6.0,>=0.4.0->langchain-chroma==0.2.0) (2.0.0)\n",
      "Requirement already satisfied: oauthlib>=3.2.2 in d:\\software\\lib\\site-packages (from kubernetes>=28.1.0->chromadb!=0.5.10,!=0.5.11,!=0.5.12,!=0.5.4,!=0.5.5,!=0.5.7,!=0.5.9,<0.6.0,>=0.4.0->langchain-chroma==0.2.0) (3.2.2)\n",
      "Requirement already satisfied: urllib3>=1.24.2 in d:\\software\\lib\\site-packages (from kubernetes>=28.1.0->chromadb!=0.5.10,!=0.5.11,!=0.5.12,!=0.5.4,!=0.5.5,!=0.5.7,!=0.5.9,<0.6.0,>=0.4.0->langchain-chroma==0.2.0) (2.2.2)\n",
      "Requirement already satisfied: durationpy>=0.7 in d:\\software\\lib\\site-packages (from kubernetes>=28.1.0->chromadb!=0.5.10,!=0.5.11,!=0.5.12,!=0.5.4,!=0.5.5,!=0.5.7,!=0.5.9,<0.6.0,>=0.4.0->langchain-chroma==0.2.0) (0.9)\n",
      "Requirement already satisfied: coloredlogs in d:\\software\\lib\\site-packages (from onnxruntime>=1.14.1->chromadb!=0.5.10,!=0.5.11,!=0.5.12,!=0.5.4,!=0.5.5,!=0.5.7,!=0.5.9,<0.6.0,>=0.4.0->langchain-chroma==0.2.0) (15.0.1)\n",
      "Requirement already satisfied: flatbuffers in d:\\software\\lib\\site-packages (from onnxruntime>=1.14.1->chromadb!=0.5.10,!=0.5.11,!=0.5.12,!=0.5.4,!=0.5.5,!=0.5.7,!=0.5.9,<0.6.0,>=0.4.0->langchain-chroma==0.2.0) (24.3.25)\n",
      "Requirement already satisfied: protobuf in d:\\software\\lib\\site-packages (from onnxruntime>=1.14.1->chromadb!=0.5.10,!=0.5.11,!=0.5.12,!=0.5.4,!=0.5.5,!=0.5.7,!=0.5.9,<0.6.0,>=0.4.0->langchain-chroma==0.2.0) (5.29.3)\n",
      "Requirement already satisfied: sympy in d:\\software\\lib\\site-packages (from onnxruntime>=1.14.1->chromadb!=0.5.10,!=0.5.11,!=0.5.12,!=0.5.4,!=0.5.5,!=0.5.7,!=0.5.9,<0.6.0,>=0.4.0->langchain-chroma==0.2.0) (1.12)\n",
      "Requirement already satisfied: deprecated>=1.2.6 in d:\\software\\lib\\site-packages (from opentelemetry-api>=1.2.0->chromadb!=0.5.10,!=0.5.11,!=0.5.12,!=0.5.4,!=0.5.5,!=0.5.7,!=0.5.9,<0.6.0,>=0.4.0->langchain-chroma==0.2.0) (1.2.14)\n",
      "Requirement already satisfied: importlib-metadata<=7.0,>=6.0 in d:\\software\\lib\\site-packages (from opentelemetry-api>=1.2.0->chromadb!=0.5.10,!=0.5.11,!=0.5.12,!=0.5.4,!=0.5.5,!=0.5.7,!=0.5.9,<0.6.0,>=0.4.0->langchain-chroma==0.2.0) (7.0.0)\n",
      "Requirement already satisfied: googleapis-common-protos~=1.52 in d:\\software\\lib\\site-packages (from opentelemetry-exporter-otlp-proto-grpc>=1.2.0->chromadb!=0.5.10,!=0.5.11,!=0.5.12,!=0.5.4,!=0.5.5,!=0.5.7,!=0.5.9,<0.6.0,>=0.4.0->langchain-chroma==0.2.0) (1.65.0)\n",
      "Requirement already satisfied: opentelemetry-exporter-otlp-proto-common==1.24.0 in d:\\software\\lib\\site-packages (from opentelemetry-exporter-otlp-proto-grpc>=1.2.0->chromadb!=0.5.10,!=0.5.11,!=0.5.12,!=0.5.4,!=0.5.5,!=0.5.7,!=0.5.9,<0.6.0,>=0.4.0->langchain-chroma==0.2.0) (1.24.0)\n",
      "Requirement already satisfied: opentelemetry-proto==1.24.0 in d:\\software\\lib\\site-packages (from opentelemetry-exporter-otlp-proto-grpc>=1.2.0->chromadb!=0.5.10,!=0.5.11,!=0.5.12,!=0.5.4,!=0.5.5,!=0.5.7,!=0.5.9,<0.6.0,>=0.4.0->langchain-chroma==0.2.0) (1.24.0)\n",
      "Collecting protobuf (from onnxruntime>=1.14.1->chromadb!=0.5.10,!=0.5.11,!=0.5.12,!=0.5.4,!=0.5.5,!=0.5.7,!=0.5.9,<0.6.0,>=0.4.0->langchain-chroma==0.2.0)\n",
      "  Using cached protobuf-4.25.6-cp310-abi3-win_amd64.whl.metadata (541 bytes)\n",
      "Requirement already satisfied: opentelemetry-instrumentation-asgi==0.45b0 in d:\\software\\lib\\site-packages (from opentelemetry-instrumentation-fastapi>=0.41b0->chromadb!=0.5.10,!=0.5.11,!=0.5.12,!=0.5.4,!=0.5.5,!=0.5.7,!=0.5.9,<0.6.0,>=0.4.0->langchain-chroma==0.2.0) (0.45b0)\n",
      "Requirement already satisfied: opentelemetry-instrumentation==0.45b0 in d:\\software\\lib\\site-packages (from opentelemetry-instrumentation-fastapi>=0.41b0->chromadb!=0.5.10,!=0.5.11,!=0.5.12,!=0.5.4,!=0.5.5,!=0.5.7,!=0.5.9,<0.6.0,>=0.4.0->langchain-chroma==0.2.0) (0.45b0)\n",
      "Requirement already satisfied: opentelemetry-semantic-conventions==0.45b0 in d:\\software\\lib\\site-packages (from opentelemetry-instrumentation-fastapi>=0.41b0->chromadb!=0.5.10,!=0.5.11,!=0.5.12,!=0.5.4,!=0.5.5,!=0.5.7,!=0.5.9,<0.6.0,>=0.4.0->langchain-chroma==0.2.0) (0.45b0)\n",
      "Requirement already satisfied: opentelemetry-util-http==0.45b0 in d:\\software\\lib\\site-packages (from opentelemetry-instrumentation-fastapi>=0.41b0->chromadb!=0.5.10,!=0.5.11,!=0.5.12,!=0.5.4,!=0.5.5,!=0.5.7,!=0.5.9,<0.6.0,>=0.4.0->langchain-chroma==0.2.0) (0.45b0)\n",
      "Requirement already satisfied: setuptools>=16.0 in d:\\software\\lib\\site-packages (from opentelemetry-instrumentation==0.45b0->opentelemetry-instrumentation-fastapi>=0.41b0->chromadb!=0.5.10,!=0.5.11,!=0.5.12,!=0.5.4,!=0.5.5,!=0.5.7,!=0.5.9,<0.6.0,>=0.4.0->langchain-chroma==0.2.0) (69.5.1)\n",
      "Requirement already satisfied: wrapt<2.0.0,>=1.0.0 in d:\\software\\lib\\site-packages (from opentelemetry-instrumentation==0.45b0->opentelemetry-instrumentation-fastapi>=0.41b0->chromadb!=0.5.10,!=0.5.11,!=0.5.12,!=0.5.4,!=0.5.5,!=0.5.7,!=0.5.9,<0.6.0,>=0.4.0->langchain-chroma==0.2.0) (1.14.1)\n",
      "Requirement already satisfied: asgiref~=3.0 in d:\\software\\lib\\site-packages (from opentelemetry-instrumentation-asgi==0.45b0->opentelemetry-instrumentation-fastapi>=0.41b0->chromadb!=0.5.10,!=0.5.11,!=0.5.12,!=0.5.4,!=0.5.5,!=0.5.7,!=0.5.9,<0.6.0,>=0.4.0->langchain-chroma==0.2.0) (3.8.1)\n",
      "Requirement already satisfied: monotonic>=1.5 in d:\\software\\lib\\site-packages (from posthog>=2.4.0->chromadb!=0.5.10,!=0.5.11,!=0.5.12,!=0.5.4,!=0.5.5,!=0.5.7,!=0.5.9,<0.6.0,>=0.4.0->langchain-chroma==0.2.0) (1.6)\n",
      "Requirement already satisfied: backoff>=1.10.0 in d:\\software\\lib\\site-packages (from posthog>=2.4.0->chromadb!=0.5.10,!=0.5.11,!=0.5.12,!=0.5.4,!=0.5.5,!=0.5.7,!=0.5.9,<0.6.0,>=0.4.0->langchain-chroma==0.2.0) (2.2.1)\n",
      "Requirement already satisfied: annotated-types>=0.6.0 in d:\\software\\lib\\site-packages (from pydantic>=1.9->chromadb!=0.5.10,!=0.5.11,!=0.5.12,!=0.5.4,!=0.5.5,!=0.5.7,!=0.5.9,<0.6.0,>=0.4.0->langchain-chroma==0.2.0) (0.6.0)\n",
      "Requirement already satisfied: pydantic-core==2.23.4 in d:\\software\\lib\\site-packages (from pydantic>=1.9->chromadb!=0.5.10,!=0.5.11,!=0.5.12,!=0.5.4,!=0.5.5,!=0.5.7,!=0.5.9,<0.6.0,>=0.4.0->langchain-chroma==0.2.0) (2.23.4)\n",
      "Requirement already satisfied: markdown-it-py<3.0.0,>=2.2.0 in d:\\software\\lib\\site-packages (from rich>=10.11.0->chromadb!=0.5.10,!=0.5.11,!=0.5.12,!=0.5.4,!=0.5.5,!=0.5.7,!=0.5.9,<0.6.0,>=0.4.0->langchain-chroma==0.2.0) (2.2.0)\n",
      "Requirement already satisfied: pygments<3.0.0,>=2.13.0 in d:\\software\\lib\\site-packages (from rich>=10.11.0->chromadb!=0.5.10,!=0.5.11,!=0.5.12,!=0.5.4,!=0.5.5,!=0.5.7,!=0.5.9,<0.6.0,>=0.4.0->langchain-chroma==0.2.0) (2.15.1)\n",
      "Requirement already satisfied: huggingface-hub<1.0,>=0.16.4 in d:\\software\\lib\\site-packages (from tokenizers>=0.13.2->chromadb!=0.5.10,!=0.5.11,!=0.5.12,!=0.5.4,!=0.5.5,!=0.5.7,!=0.5.9,<0.6.0,>=0.4.0->langchain-chroma==0.2.0) (0.24.7)\n",
      "Requirement already satisfied: click>=8.0.0 in d:\\software\\lib\\site-packages (from typer>=0.9.0->chromadb!=0.5.10,!=0.5.11,!=0.5.12,!=0.5.4,!=0.5.5,!=0.5.7,!=0.5.9,<0.6.0,>=0.4.0->langchain-chroma==0.2.0) (8.1.8)\n",
      "Requirement already satisfied: shellingham>=1.3.0 in d:\\software\\lib\\site-packages (from typer>=0.9.0->chromadb!=0.5.10,!=0.5.11,!=0.5.12,!=0.5.4,!=0.5.5,!=0.5.7,!=0.5.9,<0.6.0,>=0.4.0->langchain-chroma==0.2.0) (1.5.4)\n",
      "Requirement already satisfied: httptools>=0.5.0 in d:\\software\\lib\\site-packages (from uvicorn[standard]>=0.18.3->chromadb!=0.5.10,!=0.5.11,!=0.5.12,!=0.5.4,!=0.5.5,!=0.5.7,!=0.5.9,<0.6.0,>=0.4.0->langchain-chroma==0.2.0) (0.6.4)\n",
      "Requirement already satisfied: python-dotenv>=0.13 in d:\\software\\lib\\site-packages (from uvicorn[standard]>=0.18.3->chromadb!=0.5.10,!=0.5.11,!=0.5.12,!=0.5.4,!=0.5.5,!=0.5.7,!=0.5.9,<0.6.0,>=0.4.0->langchain-chroma==0.2.0) (0.21.0)\n",
      "Requirement already satisfied: watchfiles>=0.13 in d:\\software\\lib\\site-packages (from uvicorn[standard]>=0.18.3->chromadb!=0.5.10,!=0.5.11,!=0.5.12,!=0.5.4,!=0.5.5,!=0.5.7,!=0.5.9,<0.6.0,>=0.4.0->langchain-chroma==0.2.0) (0.24.0)\n",
      "Requirement already satisfied: websockets>=10.4 in d:\\software\\lib\\site-packages (from uvicorn[standard]>=0.18.3->chromadb!=0.5.10,!=0.5.11,!=0.5.12,!=0.5.4,!=0.5.5,!=0.5.7,!=0.5.9,<0.6.0,>=0.4.0->langchain-chroma==0.2.0) (13.1)\n",
      "Requirement already satisfied: cachetools<6.0,>=2.0.0 in d:\\software\\lib\\site-packages (from google-auth>=1.0.1->kubernetes>=28.1.0->chromadb!=0.5.10,!=0.5.11,!=0.5.12,!=0.5.4,!=0.5.5,!=0.5.7,!=0.5.9,<0.6.0,>=0.4.0->langchain-chroma==0.2.0) (5.3.3)\n",
      "Requirement already satisfied: pyasn1-modules>=0.2.1 in d:\\software\\lib\\site-packages (from google-auth>=1.0.1->kubernetes>=28.1.0->chromadb!=0.5.10,!=0.5.11,!=0.5.12,!=0.5.4,!=0.5.5,!=0.5.7,!=0.5.9,<0.6.0,>=0.4.0->langchain-chroma==0.2.0) (0.2.8)\n",
      "Requirement already satisfied: rsa<5,>=3.1.4 in d:\\software\\lib\\site-packages (from google-auth>=1.0.1->kubernetes>=28.1.0->chromadb!=0.5.10,!=0.5.11,!=0.5.12,!=0.5.4,!=0.5.5,!=0.5.7,!=0.5.9,<0.6.0,>=0.4.0->langchain-chroma==0.2.0) (4.9)\n",
      "Requirement already satisfied: filelock in d:\\software\\lib\\site-packages (from huggingface-hub<1.0,>=0.16.4->tokenizers>=0.13.2->chromadb!=0.5.10,!=0.5.11,!=0.5.12,!=0.5.4,!=0.5.5,!=0.5.7,!=0.5.9,<0.6.0,>=0.4.0->langchain-chroma==0.2.0) (3.13.1)\n",
      "Requirement already satisfied: fsspec>=2023.5.0 in d:\\software\\lib\\site-packages (from huggingface-hub<1.0,>=0.16.4->tokenizers>=0.13.2->chromadb!=0.5.10,!=0.5.11,!=0.5.12,!=0.5.4,!=0.5.5,!=0.5.7,!=0.5.9,<0.6.0,>=0.4.0->langchain-chroma==0.2.0) (2024.3.1)\n",
      "Requirement already satisfied: zipp>=0.5 in d:\\software\\lib\\site-packages (from importlib-metadata<=7.0,>=6.0->opentelemetry-api>=1.2.0->chromadb!=0.5.10,!=0.5.11,!=0.5.12,!=0.5.4,!=0.5.5,!=0.5.7,!=0.5.9,<0.6.0,>=0.4.0->langchain-chroma==0.2.0) (3.17.0)\n",
      "Requirement already satisfied: mdurl~=0.1 in d:\\software\\lib\\site-packages (from markdown-it-py<3.0.0,>=2.2.0->rich>=10.11.0->chromadb!=0.5.10,!=0.5.11,!=0.5.12,!=0.5.4,!=0.5.5,!=0.5.7,!=0.5.9,<0.6.0,>=0.4.0->langchain-chroma==0.2.0) (0.1.0)\n",
      "Requirement already satisfied: charset-normalizer<4,>=2 in d:\\software\\lib\\site-packages (from requests->kubernetes>=28.1.0->chromadb!=0.5.10,!=0.5.11,!=0.5.12,!=0.5.4,!=0.5.5,!=0.5.7,!=0.5.9,<0.6.0,>=0.4.0->langchain-chroma==0.2.0) (2.0.4)\n",
      "Requirement already satisfied: humanfriendly>=9.1 in d:\\software\\lib\\site-packages (from coloredlogs->onnxruntime>=1.14.1->chromadb!=0.5.10,!=0.5.11,!=0.5.12,!=0.5.4,!=0.5.5,!=0.5.7,!=0.5.9,<0.6.0,>=0.4.0->langchain-chroma==0.2.0) (10.0)\n",
      "Requirement already satisfied: mpmath>=0.19 in d:\\software\\lib\\site-packages (from sympy->onnxruntime>=1.14.1->chromadb!=0.5.10,!=0.5.11,!=0.5.12,!=0.5.4,!=0.5.5,!=0.5.7,!=0.5.9,<0.6.0,>=0.4.0->langchain-chroma==0.2.0) (1.3.0)\n",
      "Requirement already satisfied: pyreadline3 in d:\\software\\lib\\site-packages (from humanfriendly>=9.1->coloredlogs->onnxruntime>=1.14.1->chromadb!=0.5.10,!=0.5.11,!=0.5.12,!=0.5.4,!=0.5.5,!=0.5.7,!=0.5.9,<0.6.0,>=0.4.0->langchain-chroma==0.2.0) (3.5.4)\n",
      "Requirement already satisfied: pyasn1<0.5.0,>=0.4.6 in d:\\software\\lib\\site-packages (from pyasn1-modules>=0.2.1->google-auth>=1.0.1->kubernetes>=28.1.0->chromadb!=0.5.10,!=0.5.11,!=0.5.12,!=0.5.4,!=0.5.5,!=0.5.7,!=0.5.9,<0.6.0,>=0.4.0->langchain-chroma==0.2.0) (0.4.8)\n",
      "Downloading langchain_chroma-0.2.0-py3-none-any.whl (11 kB)\n",
      "Using cached protobuf-4.25.6-cp310-abi3-win_amd64.whl (413 kB)\n",
      "Installing collected packages: protobuf, langchain-chroma\n",
      "  Attempting uninstall: protobuf\n",
      "    Found existing installation: protobuf 5.29.3\n",
      "    Uninstalling protobuf-5.29.3:\n",
      "      Successfully uninstalled protobuf-5.29.3\n",
      "  Attempting uninstall: langchain-chroma\n",
      "    Found existing installation: langchain-chroma 0.1.4\n",
      "    Uninstalling langchain-chroma-0.1.4:\n",
      "      Successfully uninstalled langchain-chroma-0.1.4\n",
      "Successfully installed langchain-chroma-0.2.0 protobuf-4.25.6\n"
     ]
    },
    {
     "name": "stderr",
     "output_type": "stream",
     "text": [
      "ERROR: pip's dependency resolver does not currently take into account all the packages that are installed. This behaviour is the source of the following dependency conflicts.\n",
      "deepeval 1.4.7 requires grpcio~=1.63.0, but you have grpcio 1.70.0 which is incompatible.\n",
      "grpcio-status 1.66.1 requires protobuf<6.0dev,>=5.26.1, but you have protobuf 4.25.6 which is incompatible.\n"
     ]
    }
   ],
   "source": [
    "!pip install langchain-chroma==0.2.0"
   ]
  },
  {
   "cell_type": "markdown",
   "metadata": {
    "id": "H9c37cLnSrbg"
   },
   "source": [
    "## Enter Open AI API Key"
   ]
  },
  {
   "cell_type": "code",
   "execution_count": 5,
   "metadata": {
    "colab": {
     "base_uri": "https://localhost:8080/"
    },
    "id": "cv3JzCEx_PAd",
    "outputId": "386a300a-8a64-4b0d-ac91-5dae271213ea"
   },
   "outputs": [
    {
     "name": "stdin",
     "output_type": "stream",
     "text": [
      "Enter Open AI API Key:  ········\n"
     ]
    }
   ],
   "source": [
    "from getpass import getpass\n",
    "\n",
    "OPENAI_KEY = getpass('Enter Open AI API Key: ')"
   ]
  },
  {
   "cell_type": "markdown",
   "metadata": {
    "id": "1T0s0um5Svfa"
   },
   "source": [
    "## Setup Environment Variables"
   ]
  },
  {
   "cell_type": "code",
   "execution_count": 7,
   "metadata": {
    "id": "x1YSuHNF_lbh"
   },
   "outputs": [],
   "source": [
    "import os\n",
    "\n",
    "os.environ['OPENAI_API_KEY'] = OPENAI_KEY"
   ]
  },
  {
   "cell_type": "markdown",
   "metadata": {
    "id": "iLVgrOIgR_Z1"
   },
   "source": [
    "## Load Company Knowledge Base"
   ]
  },
  {
   "cell_type": "code",
   "execution_count": 9,
   "metadata": {
    "colab": {
     "base_uri": "https://localhost:8080/"
    },
    "id": "Mjlzx9bxR-1C",
    "outputId": "4e34e219-f353-494e-9290-ca720fb0bc13"
   },
   "outputs": [
    {
     "name": "stderr",
     "output_type": "stream",
     "text": [
      "Downloading...\n",
      "From: https://drive.google.com/uc?id=1CWHutosAcJ6fiddQW5ogvg7NgLstZJ9j\n",
      "To: C:\\Users\\KUMAR SUNDRAM\\OneDrive\\Desktop\\GENAI_IIT\\LangChain\\router_agent_documents.json\n",
      "\n",
      "  0%|          | 0.00/7.99k [00:00<?, ?B/s]\n",
      "100%|##########| 7.99k/7.99k [00:00<00:00, 7.93MB/s]\n"
     ]
    }
   ],
   "source": [
    "# or download manually from https://drive.google.com/file/d/1CWHutosAcJ6fiddQW5ogvg7NgLstZJ9j/view?usp=sharing and upload to colab or your notebook location\n",
    "!gdown 1CWHutosAcJ6fiddQW5ogvg7NgLstZJ9j"
   ]
  },
  {
   "cell_type": "code",
   "execution_count": 13,
   "metadata": {
    "colab": {
     "base_uri": "https://localhost:8080/"
    },
    "id": "7NzAAMXyTSAH",
    "outputId": "f6309d60-d5b0-45c8-942c-cb63165da8d1"
   },
   "outputs": [
    {
     "data": {
      "text/plain": [
       "[{'text': 'Question: How do I integrate your AI product with my existing CRM system? Answer: You can integrate our AI product with your CRM using our API. Refer to the API documentation available on our website for step-by-step guidance.',\n",
       "  'metadata': {'category': 'technical'}},\n",
       " {'text': 'Question: What programming languages are supported by your SDK? Answer: Our SDK supports Python, Java, and JavaScript. Additional language support is planned for future updates.',\n",
       "  'metadata': {'category': 'technical'}},\n",
       " {'text': 'Question: Can your AI models run on-premise? Answer: Yes, our AI models can be deployed on-premise. We provide deployment guides for various environments.',\n",
       "  'metadata': {'category': 'technical'}},\n",
       " {'text': 'Question: Does your hardware support edge AI applications? Answer: Yes, our hardware is optimized for edge AI, with low-latency processing and energy-efficient designs.',\n",
       "  'metadata': {'category': 'technical'}},\n",
       " {'text': 'Question: How do I troubleshoot issues with model performance? Answer: Start by reviewing the logs, checking resource utilization, and validating input data quality. You can also reach out to support for assistance.',\n",
       "  'metadata': {'category': 'technical'}}]"
      ]
     },
     "execution_count": 13,
     "metadata": {},
     "output_type": "execute_result"
    }
   ],
   "source": [
    "import json\n",
    "\n",
    "with open(\"./router_agent_documents.json\", \"r\") as f:\n",
    "    knowledge_base = json.load(f)\n",
    "\n",
    "knowledge_base[:5]"
   ]
  },
  {
   "cell_type": "code",
   "execution_count": 15,
   "metadata": {
    "colab": {
     "base_uri": "https://localhost:8080/"
    },
    "id": "wi8ULKpHEc0Z",
    "outputId": "10dc8df6-f38a-4701-9789-e4c4639b8ffa"
   },
   "outputs": [
    {
     "data": {
      "text/plain": [
       "[{'text': \"Question: Where can I find user manuals for your hardware products? Answer: User manuals are available on our website under the 'Support' section.\",\n",
       "  'metadata': {'category': 'general'}},\n",
       " {'text': 'Question: Can I try your software before purchasing? Answer: Yes, we offer a 14-day free trial for our software products. Visit our website to sign up.',\n",
       "  'metadata': {'category': 'general'}},\n",
       " {'text': 'Question: How do I escalate an unresolved issue? Answer: You can escalate unresolved issues by emailing our escalation team at escalations@example.com.',\n",
       "  'metadata': {'category': 'general'}},\n",
       " {'text': 'Question: Do you have a reseller program? Answer: Yes, we have a reseller program. Please contact our sales team for details.',\n",
       "  'metadata': {'category': 'general'}},\n",
       " {'text': 'Question: What is your policy for handling damaged hardware deliveries? Answer: If you receive damaged hardware, please report it within 48 hours to our support team. We will arrange for a replacement.',\n",
       "  'metadata': {'category': 'general'}}]"
      ]
     },
     "execution_count": 15,
     "metadata": {},
     "output_type": "execute_result"
    }
   ],
   "source": [
    "knowledge_base[-5:]"
   ]
  },
  {
   "cell_type": "code",
   "execution_count": 19,
   "metadata": {
    "colab": {
     "base_uri": "https://localhost:8080/"
    },
    "id": "2ne7fLkRTdiN",
    "outputId": "611c8f8a-7d61-4527-8729-2d0cf449bca1"
   },
   "outputs": [
    {
     "name": "stderr",
     "output_type": "stream",
     "text": [
      "100%|███████████████████████████████████████████████████████████████████████████████| 30/30 [00:00<00:00, 29824.39it/s]\n"
     ]
    },
    {
     "data": {
      "text/plain": [
       "[Document(metadata={'category': 'technical'}, page_content='Question: How do I integrate your AI product with my existing CRM system? Answer: You can integrate our AI product with your CRM using our API. Refer to the API documentation available on our website for step-by-step guidance.'),\n",
       " Document(metadata={'category': 'technical'}, page_content='Question: What programming languages are supported by your SDK? Answer: Our SDK supports Python, Java, and JavaScript. Additional language support is planned for future updates.'),\n",
       " Document(metadata={'category': 'technical'}, page_content='Question: Can your AI models run on-premise? Answer: Yes, our AI models can be deployed on-premise. We provide deployment guides for various environments.'),\n",
       " Document(metadata={'category': 'technical'}, page_content='Question: Does your hardware support edge AI applications? Answer: Yes, our hardware is optimized for edge AI, with low-latency processing and energy-efficient designs.'),\n",
       " Document(metadata={'category': 'technical'}, page_content='Question: How do I troubleshoot issues with model performance? Answer: Start by reviewing the logs, checking resource utilization, and validating input data quality. You can also reach out to support for assistance.'),\n",
       " Document(metadata={'category': 'technical'}, page_content='Question: Can I fine-tune your AI models? Answer: Yes, our platform supports model fine-tuning using your custom datasets.'),\n",
       " Document(metadata={'category': 'technical'}, page_content='Question: What are the hardware requirements for running your AI solutions? Answer: Our AI solutions require a minimum of 16GB RAM, an Intel Core i7 processor, and an NVIDIA RTX 3060 GPU for optimal performance.'),\n",
       " Document(metadata={'category': 'technical'}, page_content='Question: Do you provide pre-trained models? Answer: Yes, we offer a range of pre-trained models for various use cases such as NLP, computer vision, and recommendation systems.'),\n",
       " Document(metadata={'category': 'technical'}, page_content='Question: How do I update the firmware on your hardware products? Answer: Firmware updates can be applied through the companion app or the firmware update tool available on our website.'),\n",
       " Document(metadata={'category': 'technical'}, page_content='Question: Is your product compatible with Kubernetes for deployment? Answer: Yes, our platform provides Kubernetes deployment templates and Helm charts for easy setup.')]"
      ]
     },
     "execution_count": 19,
     "metadata": {},
     "output_type": "execute_result"
    }
   ],
   "source": [
    "from langchain.docstore.document import Document\n",
    "from tqdm import tqdm\n",
    "\n",
    "processed_docs = []\n",
    "\n",
    "for doc in tqdm(knowledge_base):\n",
    "    metadata = doc['metadata']\n",
    "    data = doc['text']\n",
    "    processed_docs.append(Document(page_content=data,\n",
    "                                   metadata=metadata))\n",
    "\n",
    "processed_docs[:10]"
   ]
  },
  {
   "cell_type": "markdown",
   "metadata": {
    "id": "M-NDea2_HAZ-"
   },
   "source": [
    "## Create Vector Database"
   ]
  },
  {
   "cell_type": "code",
   "execution_count": 21,
   "metadata": {
    "id": "f3Ngz9vqUGt3"
   },
   "outputs": [],
   "source": [
    "from langchain_openai import OpenAIEmbeddings\n",
    "\n",
    "# details here: https://openai.com/blog/new-embedding-models-and-api-updates\n",
    "openai_embed_model = OpenAIEmbeddings(model='text-embedding-3-small')"
   ]
  },
  {
   "cell_type": "code",
   "execution_count": 23,
   "metadata": {
    "id": "g6C6d4AkUVhs"
   },
   "outputs": [],
   "source": [
    "from langchain_chroma import Chroma\n",
    "\n",
    "kbase_db = Chroma.from_documents(documents=processed_docs,\n",
    "                                  collection_name='knowledge_base',\n",
    "                                  embedding=openai_embed_model,\n",
    "                                  # need to set the distance function to cosine else it uses euclidean by default\n",
    "                                  # check https://docs.trychroma.com/guides#changing-the-distance-function\n",
    "                                  collection_metadata={\"hnsw:space\": \"cosine\"},\n",
    "                                  persist_directory=\"./knowledge_base\")"
   ]
  },
  {
   "cell_type": "code",
   "execution_count": 25,
   "metadata": {
    "id": "-Wppf1mhUw0V"
   },
   "outputs": [],
   "source": [
    "kbase_search = kbase_db.as_retriever(search_type=\"similarity_score_threshold\",\n",
    "                                     search_kwargs={\"k\": 3, \"score_threshold\": 0.2})"
   ]
  },
  {
   "cell_type": "code",
   "execution_count": 27,
   "metadata": {
    "colab": {
     "base_uri": "https://localhost:8080/"
    },
    "id": "ryudORhuUNDb",
    "outputId": "507e9f2f-8d8c-4856-8a9d-d987a43bda70"
   },
   "outputs": [
    {
     "data": {
      "text/plain": [
       "[Document(id='ad9baeb3-1a54-4048-9c99-d2d98ef2f89c', metadata={'category': 'general'}, page_content='Question: What is your refund policy? Answer: We offer a 30-day money-back guarantee for all our products. Please contact support to initiate a refund.'),\n",
       " Document(id='88b2a1db-ae71-42aa-b14b-61aa5845fb10', metadata={'category': 'general'}, page_content='Question: What is your policy for handling damaged hardware deliveries? Answer: If you receive damaged hardware, please report it within 48 hours to our support team. We will arrange for a replacement.'),\n",
       " Document(id='6b80d04d-d2e6-49c7-90b2-2301fdbb5851', metadata={'category': 'general'}, page_content='Question: What is your shipping policy for hardware products? Answer: We provide free shipping for orders above $500. For orders below $500, a flat shipping fee of $20 applies. Shipping typically takes 5-7 business days.')]"
      ]
     },
     "execution_count": 27,
     "metadata": {},
     "output_type": "execute_result"
    }
   ],
   "source": [
    "query = 'what is your refund policy?'\n",
    "metadata_filter = {'category' : 'general'}\n",
    "# Update retriever search_kwargs dynamically\n",
    "kbase_search.search_kwargs[\"filter\"] = metadata_filter\n",
    "kbase_search.invoke(query)"
   ]
  },
  {
   "cell_type": "code",
   "execution_count": 29,
   "metadata": {
    "colab": {
     "base_uri": "https://localhost:8080/"
    },
    "id": "gz6MvJyTeWQD",
    "outputId": "872a6935-f182-4b76-9875-15204ddec3c4"
   },
   "outputs": [
    {
     "name": "stderr",
     "output_type": "stream",
     "text": [
      "No relevant docs were retrieved using the relevance score threshold 0.2\n"
     ]
    },
    {
     "data": {
      "text/plain": [
       "[]"
      ]
     },
     "execution_count": 29,
     "metadata": {},
     "output_type": "execute_result"
    }
   ],
   "source": [
    "query = 'what is your refund policy'\n",
    "metadata_filter = {'category' : 'General'}\n",
    "# Update retriever search_kwargs dynamically\n",
    "kbase_search.search_kwargs[\"filter\"] = metadata_filter\n",
    "kbase_search.invoke(query)"
   ]
  },
  {
   "cell_type": "code",
   "execution_count": 31,
   "metadata": {
    "colab": {
     "base_uri": "https://localhost:8080/"
    },
    "id": "FeCqpNFmXGRo",
    "outputId": "eddd83b4-de64-4cdd-d0a7-d203f8dcd022"
   },
   "outputs": [
    {
     "name": "stderr",
     "output_type": "stream",
     "text": [
      "No relevant docs were retrieved using the relevance score threshold 0.2\n"
     ]
    },
    {
     "data": {
      "text/plain": [
       "[]"
      ]
     },
     "execution_count": 31,
     "metadata": {},
     "output_type": "execute_result"
    }
   ],
   "source": [
    "query = 'what is your refund policy'\n",
    "metadata_filter = {'category' : 'technical'}\n",
    "# Update retriever search_kwargs dynamically\n",
    "kbase_search.search_kwargs[\"filter\"] = metadata_filter\n",
    "kbase_search.invoke(query)"
   ]
  },
  {
   "cell_type": "markdown",
   "metadata": {
    "id": "4Um1WrTcJFsl"
   },
   "source": [
    "## Define the Customer Inquiry State\n",
    "\n",
    "We create a `CustomerSupportState` typed dictionary to keep track of each interaction:\n",
    "- **customer_query**: The text of the customer's question\n",
    "- **query_category**: Technical, Billing, or General (used for routing)\n",
    "- **query_sentiment**: Positive, Neutral, or Negative (used for routing)\n",
    "- **final_response**: The system's response to the customer"
   ]
  },
  {
   "cell_type": "code",
   "execution_count": 33,
   "metadata": {
    "id": "N2oH7LzqJFsn"
   },
   "outputs": [],
   "source": [
    "from typing import TypedDict, Literal\n",
    "from pydantic import BaseModel\n",
    "\n",
    "class CustomerSupportState(TypedDict):\n",
    "    customer_query: str\n",
    "    query_category: str\n",
    "    query_sentiment: str\n",
    "    final_response: str\n",
    "\n",
    "class QueryCategory(BaseModel):\n",
    "    categorized_topic: Literal['Technical', 'Billing', 'General']\n",
    "\n",
    "class QuerySentiment(BaseModel):\n",
    "    sentiment: Literal['Positive', 'Neutral', 'Negative']"
   ]
  },
  {
   "cell_type": "markdown",
   "metadata": {
    "id": "dL-RUuX-JFso"
   },
   "source": [
    "## Create Node Functions\n",
    "\n",
    "Each function below represents a stage in processing a customer inquiry:\n",
    "\n",
    "1. **categorize_inquiry**: Classifies the query into Technical, Billing, or General.\n",
    "2. **analyze_inquiry_sentiment**: Determines if the sentiment is Positive, Neutral, or Negative.\n",
    "3. **generate_technical_response**: Produces a response for technical issues.\n",
    "4. **generate_billing_response**: Produces a response for billing questions.\n",
    "5. **generate_general_response**: Produces a response for general queries.\n",
    "6. **escalate_to_human_agent**: Escalates the query to a human if sentiment is negative.\n",
    "7. **determine_route**: Routes the inquiry to the appropriate response node based on category and sentiment."
   ]
  },
  {
   "cell_type": "code",
   "execution_count": 39,
   "metadata": {
    "id": "XqvrHu8ZX2tn"
   },
   "outputs": [],
   "source": [
    "from langchain_openai import ChatOpenAI\n",
    "\n",
    "llm = ChatOpenAI(model=\"gpt-4o\", temperature=0)"
   ]
  },
  {
   "cell_type": "code",
   "execution_count": 41,
   "metadata": {
    "id": "IktZ07zDJFsp"
   },
   "outputs": [],
   "source": [
    "def categorize_inquiry(support_state: CustomerSupportState) -> CustomerSupportState:\n",
    "    \"\"\"\n",
    "    Classify the customer query into Technical, Billing, or General.\n",
    "    \"\"\"\n",
    "\n",
    "    query = support_state[\"customer_query\"]\n",
    "    ROUTE_CATEGORY_PROMPT = \"\"\"Act as a customer support agent trying to best categorize the customer query.\n",
    "                               You are an agent for an AI products and hardware company.\n",
    "\n",
    "                               Please read the customer query below and\n",
    "                               determine the best category from the following list:\n",
    "\n",
    "                               'Technical', 'Billing', or 'General'.\n",
    "\n",
    "                               Remember:\n",
    "                                - Technical queries will focus more on technical aspects like AI models, hardware, software related queries etc.\n",
    "                                - General queries will focus more on general aspects like contacting support, finding things, policies etc.\n",
    "                                - Billing queries will focus more on payment and purchase related aspects\n",
    "\n",
    "                                Return just the category name (from one of the above)\n",
    "\n",
    "                                Query:\n",
    "                                {customer_query}\n",
    "                            \"\"\"\n",
    "    prompt = ROUTE_CATEGORY_PROMPT.format(customer_query=query)\n",
    "    route_category = llm.with_structured_output(QueryCategory).invoke(prompt)\n",
    "\n",
    "    return {\n",
    "        \"query_category\": route_category.categorized_topic\n",
    "    }"
   ]
  },
  {
   "cell_type": "code",
   "execution_count": 43,
   "metadata": {
    "colab": {
     "base_uri": "https://localhost:8080/"
    },
    "id": "Uh2L4b4YaBVp",
    "outputId": "fb79c8e6-7361-4eb0-dbb7-bcda52e35a2e"
   },
   "outputs": [
    {
     "data": {
      "text/plain": [
       "{'query_category': 'Technical'}"
      ]
     },
     "execution_count": 43,
     "metadata": {},
     "output_type": "execute_result"
    }
   ],
   "source": [
    "categorize_inquiry({\"customer_query\": \"Do you provide pretrained models?\"})"
   ]
  },
  {
   "cell_type": "code",
   "execution_count": 45,
   "metadata": {
    "colab": {
     "base_uri": "https://localhost:8080/"
    },
    "id": "K3CDsIqGbnNV",
    "outputId": "84a021c1-d028-4883-e934-d350e289cf74"
   },
   "outputs": [
    {
     "data": {
      "text/plain": [
       "{'query_category': 'General'}"
      ]
     },
     "execution_count": 45,
     "metadata": {},
     "output_type": "execute_result"
    }
   ],
   "source": [
    "categorize_inquiry({\"customer_query\": \"what is your refund policy?\"})"
   ]
  },
  {
   "cell_type": "code",
   "execution_count": 47,
   "metadata": {
    "colab": {
     "base_uri": "https://localhost:8080/"
    },
    "id": "Pa3vyedQbxin",
    "outputId": "007bda58-8f33-42ee-f2e3-a991e6b910f4"
   },
   "outputs": [
    {
     "data": {
      "text/plain": [
       "{'query_category': 'Billing'}"
      ]
     },
     "execution_count": 47,
     "metadata": {},
     "output_type": "execute_result"
    }
   ],
   "source": [
    "categorize_inquiry({\"customer_query\": \"what payment methods are accepted?\"})"
   ]
  },
  {
   "cell_type": "code",
   "execution_count": 49,
   "metadata": {
    "id": "8xoHBg4HZ-tV"
   },
   "outputs": [],
   "source": [
    "def analyze_inquiry_sentiment(support_state: CustomerSupportState) -> CustomerSupportState:\n",
    "    \"\"\"\n",
    "    Analyze the sentiment of the customer query as Positive, Neutral, or Negative.\n",
    "    \"\"\"\n",
    "\n",
    "    query = support_state[\"customer_query\"]\n",
    "    SENTIMENT_CATEGORY_PROMPT = \"\"\"Act as a customer support agent trying to best categorize the customer query's sentiment.\n",
    "                                   You are an agent for an AI products and hardware company.\n",
    "\n",
    "                                   Please read the customer query below,\n",
    "                                   analyze its sentiment which should be one from the following list:\n",
    "\n",
    "                                   'Positive', 'Neutral', or 'Negative'.\n",
    "\n",
    "                                   Return just the sentiment (from one of the above)\n",
    "\n",
    "                                   Query:\n",
    "                                   {customer_query}\n",
    "                                \"\"\"\n",
    "    prompt = SENTIMENT_CATEGORY_PROMPT.format(customer_query=query)\n",
    "    sentiment_category = llm.with_structured_output(QuerySentiment).invoke(prompt)\n",
    "\n",
    "    return {\n",
    "        \"query_sentiment\": sentiment_category.sentiment\n",
    "    }"
   ]
  },
  {
   "cell_type": "code",
   "execution_count": 51,
   "metadata": {
    "colab": {
     "base_uri": "https://localhost:8080/"
    },
    "id": "_ByyxDpxd3Ht",
    "outputId": "964764fc-1973-49f8-cfa3-0f270482d766"
   },
   "outputs": [
    {
     "data": {
      "text/plain": [
       "{'query_sentiment': 'Neutral'}"
      ]
     },
     "execution_count": 51,
     "metadata": {},
     "output_type": "execute_result"
    }
   ],
   "source": [
    "analyze_inquiry_sentiment({\"customer_query\": \"what is your refund policy?\"})"
   ]
  },
  {
   "cell_type": "code",
   "execution_count": 53,
   "metadata": {
    "colab": {
     "base_uri": "https://localhost:8080/"
    },
    "id": "V2Q9rU7md6mm",
    "outputId": "c3985d63-418b-4707-f044-fb0f542da086"
   },
   "outputs": [
    {
     "data": {
      "text/plain": [
       "{'query_sentiment': 'Negative'}"
      ]
     },
     "execution_count": 53,
     "metadata": {},
     "output_type": "execute_result"
    }
   ],
   "source": [
    "analyze_inquiry_sentiment({\"customer_query\": \"what is your refund policy? I am really fed up with this product and need to refund it\"})"
   ]
  },
  {
   "cell_type": "code",
   "execution_count": 55,
   "metadata": {
    "id": "rgss3fymfknr"
   },
   "outputs": [],
   "source": [
    "from langchain_core.prompts import ChatPromptTemplate\n",
    "from typing import Dict\n",
    "\n",
    "def generate_technical_response(support_state: CustomerSupportState) -> CustomerSupportState:\n",
    "    \"\"\"\n",
    "    Provide a technical support response by combining knowledge from the vector store and LLM.\n",
    "    \"\"\"\n",
    "    # Retrieve category and ensure it is lowercase for metadata filtering\n",
    "\n",
    "    categorized_topic = support_state[\"query_category\"]\n",
    "    query = support_state[\"customer_query\"]\n",
    "\n",
    "    # Use metadata filter for 'technical' queries\n",
    "    if categorized_topic.lower() == \"technical\":\n",
    "        metadata_filter = {\"category\": \"technical\"}\n",
    "        kbase_search.search_kwargs[\"filter\"] = metadata_filter\n",
    "\n",
    "        # Perform retrieval from VectorDB\n",
    "        relevant_docs = kbase_search.invoke(query)\n",
    "        retrieved_content = \"\\n\\n\".join(doc.page_content for doc in relevant_docs)\n",
    "\n",
    "        # Combine retrieved information into the prompt\n",
    "        prompt = ChatPromptTemplate.from_template(\n",
    "            \"\"\"\n",
    "            Craft a clear and detailed technical support response for the following customer query.\n",
    "            Use the provided knowledge base information to enrich your response.\n",
    "            In case there is no knowledge base information or you do not know the answer just say:\n",
    "\n",
    "            Apologies I was not able to answer your question, please reach out to +1-xxx-xxxx\n",
    "\n",
    "            Customer Query:\n",
    "            {customer_query}\n",
    "\n",
    "            Relevant Knowledge Base Information:\n",
    "            {retrieved_content}\n",
    "            \"\"\"\n",
    "        )\n",
    "\n",
    "        # Generate the final response using the LLM\n",
    "        chain = prompt | llm\n",
    "        tech_reply = chain.invoke({\n",
    "            \"customer_query\": query,\n",
    "            \"retrieved_content\": retrieved_content\n",
    "        }).content\n",
    "    else:\n",
    "        # For non-technical queries, provide a default response or a general handling\n",
    "        tech_reply = \"Apologies I was not able to answer your question, please reach out to +1-xxx-xxxx\"\n",
    "\n",
    "    # Update and return the modified support state\n",
    "    return {\n",
    "        \"final_response\": tech_reply\n",
    "    }\n"
   ]
  },
  {
   "cell_type": "code",
   "execution_count": 57,
   "metadata": {
    "colab": {
     "base_uri": "https://localhost:8080/"
    },
    "id": "AVXPLD2Zgf-z",
    "outputId": "5d549a2d-79e5-48a5-df8a-6d22348f144e"
   },
   "outputs": [
    {
     "data": {
      "text/plain": [
       "{'final_response': 'Apologies I was not able to answer your question, please reach out to +1-xxx-xxxx'}"
      ]
     },
     "execution_count": 57,
     "metadata": {},
     "output_type": "execute_result"
    }
   ],
   "source": [
    "generate_technical_response({\"customer_query\": \"what is your refund policy?\", \"query_category\": \"General\"})"
   ]
  },
  {
   "cell_type": "code",
   "execution_count": 59,
   "metadata": {
    "colab": {
     "base_uri": "https://localhost:8080/"
    },
    "id": "RfrobVESgoA5",
    "outputId": "62f426e5-e7ce-43c1-fb25-02ca9b1d1710"
   },
   "outputs": [
    {
     "data": {
      "text/plain": [
       "{'final_response': 'Yes, we do support on-premise models. Our AI models can be deployed on-premise, and we provide comprehensive deployment guides tailored for various environments to assist you in the process. If you need further assistance or specific deployment guides, please feel free to reach out to our support team.'}"
      ]
     },
     "execution_count": 59,
     "metadata": {},
     "output_type": "execute_result"
    }
   ],
   "source": [
    "generate_technical_response({\"customer_query\": \"do you support on-prem models?\", \"query_category\": \"Technical\"})"
   ]
  },
  {
   "cell_type": "code",
   "execution_count": 61,
   "metadata": {
    "id": "Ex9O4DW7iR7S"
   },
   "outputs": [],
   "source": [
    "def generate_billing_response(support_state: CustomerSupportState) -> CustomerSupportState:\n",
    "    \"\"\"\n",
    "    Provide a billing support response by combining knowledge from the vector store and LLM.\n",
    "    \"\"\"\n",
    "    # Retrieve category and ensure it is lowercase for metadata filtering\n",
    "    categorized_topic = support_state[\"query_category\"]\n",
    "    query = support_state[\"customer_query\"]\n",
    "\n",
    "    # Use metadata filter for 'billing' queries\n",
    "    if categorized_topic.lower() == \"billing\":\n",
    "        metadata_filter = {\"category\": \"billing\"}\n",
    "        kbase_search.search_kwargs[\"filter\"] = metadata_filter\n",
    "\n",
    "        # Perform retrieval from VectorDB\n",
    "        relevant_docs = kbase_search.invoke(query)\n",
    "        retrieved_content = \"\\n\\n\".join(doc.page_content for doc in relevant_docs)\n",
    "\n",
    "        # Combine retrieved information into the prompt\n",
    "        prompt = ChatPromptTemplate.from_template(\n",
    "            \"\"\"\n",
    "            Craft a clear and detailed billing support response for the following customer query.\n",
    "            Use the provided knowledge base information to enrich your response.\n",
    "            In case there is no knowledge base information or you do not know the answer just say:\n",
    "\n",
    "            Apologies I was not able to answer your question, please reach out to +1-xxx-xxxx\n",
    "\n",
    "            Customer Query:\n",
    "            {customer_query}\n",
    "\n",
    "            Relevant Knowledge Base Information:\n",
    "            {retrieved_content}\n",
    "            \"\"\"\n",
    "        )\n",
    "\n",
    "        # Generate the final response using the LLM\n",
    "        chain = prompt | llm\n",
    "        billing_reply = chain.invoke({\n",
    "            \"customer_query\": query,\n",
    "            \"retrieved_content\": retrieved_content\n",
    "        }).content\n",
    "    else:\n",
    "        # For non-billing queries, provide a default response or a general handling\n",
    "        billing_reply = \"Apologies I was not able to answer your question, please reach out to +1-xxx-xxxx\"\n",
    "\n",
    "    # Update and return the modified support state\n",
    "    return {\n",
    "        \"final_response\": billing_reply\n",
    "    }"
   ]
  },
  {
   "cell_type": "code",
   "execution_count": 63,
   "metadata": {
    "colab": {
     "base_uri": "https://localhost:8080/"
    },
    "id": "px5LnEH-iyRQ",
    "outputId": "71eb37e8-1bf0-4ef7-8007-f02f23e5b322"
   },
   "outputs": [
    {
     "data": {
      "text/plain": [
       "{'final_response': 'Thank you for reaching out with your query about payment methods. We accept the following payment methods:\\n\\n1. **Credit Cards**: You can use major credit cards to make your payments.\\n2. **PayPal**: We also support payments through PayPal for your convenience.\\n3. **Wire Transfers**: For corporate accounts, we offer the option to pay via wire transfers.\\n\\nIf you have any further questions or need assistance with your payment, please feel free to reach out.'}"
      ]
     },
     "execution_count": 63,
     "metadata": {},
     "output_type": "execute_result"
    }
   ],
   "source": [
    "generate_billing_response({\"customer_query\": \"what payment methods are supported?\", \"query_category\": \"Billing\"})"
   ]
  },
  {
   "cell_type": "code",
   "execution_count": 65,
   "metadata": {},
   "outputs": [
    {
     "data": {
      "text/plain": [
       "{'final_response': 'Apologies I was not able to answer your question, please reach out to +1-xxx-xxxx'}"
      ]
     },
     "execution_count": 65,
     "metadata": {},
     "output_type": "execute_result"
    }
   ],
   "source": [
    "generate_billing_response({\"customer_query\": \"do you support on-prem models?\", \"query_category\": \"Technical\"})"
   ]
  },
  {
   "cell_type": "code",
   "execution_count": 67,
   "metadata": {
    "id": "xTS_38PGjiKt"
   },
   "outputs": [],
   "source": [
    "def generate_general_response(support_state: CustomerSupportState) -> CustomerSupportState:\n",
    "    \"\"\"\n",
    "    Provide a general support response by combining knowledge from the vector store and LLM.\n",
    "    \"\"\"\n",
    "    # Retrieve category and ensure it is lowercase for metadata filtering\n",
    "    categorized_topic = support_state[\"query_category\"]\n",
    "    query = support_state[\"customer_query\"]\n",
    "\n",
    "    # Use metadata filter for 'general' queries\n",
    "    if categorized_topic.lower() == \"general\":\n",
    "        metadata_filter = {\"category\": \"general\"}\n",
    "        kbase_search.search_kwargs[\"filter\"] = metadata_filter\n",
    "\n",
    "        # Perform retrieval from VectorDB\n",
    "        relevant_docs = kbase_search.invoke(query)\n",
    "        retrieved_content = \"\\n\\n\".join(doc.page_content for doc in relevant_docs)\n",
    "\n",
    "        # Combine retrieved information into the prompt\n",
    "        prompt = ChatPromptTemplate.from_template(\n",
    "            \"\"\"\n",
    "            Craft a clear and detailed general support response for the following customer query.\n",
    "            Use the provided knowledge base information to enrich your response.\n",
    "            In case there is no knowledge base information or you do not know the answer just say:\n",
    "\n",
    "            Apologies I was not able to answer your question, please reach out to +1-xxx-xxxx\n",
    "\n",
    "            Customer Query:\n",
    "            {customer_query}\n",
    "\n",
    "            Relevant Knowledge Base Information:\n",
    "            {retrieved_content}\n",
    "            \"\"\"\n",
    "        )\n",
    "\n",
    "        # Generate the final response using the LLM\n",
    "        chain = prompt | llm\n",
    "        general_reply = chain.invoke({\n",
    "            \"customer_query\": query,\n",
    "            \"retrieved_content\": retrieved_content\n",
    "        }).content\n",
    "    else:\n",
    "        # For non-general queries, provide a default response or a general handling\n",
    "        general_reply = \"Apologies I was not able to answer your question, please reach out to +1-xxx-xxxx\"\n",
    "\n",
    "    # Update and return the modified support state\n",
    "    return {\n",
    "        \"final_response\": general_reply\n",
    "    }\n"
   ]
  },
  {
   "cell_type": "code",
   "execution_count": 69,
   "metadata": {
    "colab": {
     "base_uri": "https://localhost:8080/"
    },
    "id": "6Gw2y1tqjrMS",
    "outputId": "5d2a5af0-b37b-43ff-9043-44159ebf6d1e"
   },
   "outputs": [
    {
     "data": {
      "text/plain": [
       "{'final_response': 'Thank you for reaching out with your question about our refund policy. We offer a 30-day money-back guarantee for all our products. If you wish to initiate a refund, please contact our support team, and they will assist you with the process. If you have any further questions or need additional assistance, feel free to reach out.'}"
      ]
     },
     "execution_count": 69,
     "metadata": {},
     "output_type": "execute_result"
    }
   ],
   "source": [
    "generate_general_response({\"customer_query\": \"what is your refund policy?\", \"query_category\": \"General\"})"
   ]
  },
  {
   "cell_type": "code",
   "execution_count": 71,
   "metadata": {
    "id": "udRwW-sscAwl"
   },
   "outputs": [],
   "source": [
    "def escalate_to_human_agent(support_state: CustomerSupportState) -> CustomerSupportState:\n",
    "    \"\"\"\n",
    "    Escalate the query to a human agent if sentiment is negative.\n",
    "    \"\"\"\n",
    "\n",
    "    return {\n",
    "        \"final_response\": \"Apologies, we are really sorry! Someone from our team will be reaching out to your shortly!\"\n",
    "    }"
   ]
  },
  {
   "cell_type": "code",
   "execution_count": 73,
   "metadata": {
    "id": "Ti3TUUiSkTHG"
   },
   "outputs": [],
   "source": [
    "def determine_route(support_state: CustomerSupportState) -> str:\n",
    "    \"\"\"\n",
    "    Route the inquiry based on sentiment and category.\n",
    "    \"\"\"\n",
    "    if support_state[\"query_sentiment\"] == \"Negative\":\n",
    "        return \"escalate_to_human_agent\"\n",
    "    elif support_state[\"query_category\"] == \"Technical\":\n",
    "        return \"generate_technical_response\"\n",
    "    elif support_state[\"query_category\"] == \"Billing\":\n",
    "        return \"generate_billing_response\"\n",
    "    else:\n",
    "        return \"generate_general_response\""
   ]
  },
  {
   "cell_type": "markdown",
   "metadata": {
    "id": "QahrWKv3JFsq"
   },
   "source": [
    "## Build and Compile the Workflow\n",
    "\n",
    "We construct a LangGraph workflow with the nodes defined above:\n",
    "1. **categorize_inquiry** → **analyze_inquiry_sentiment** → **route** to the proper response node.\n",
    "2. If negative, escalate to a human agent.\n",
    "3. Otherwise, produce an appropriate response (technical, billing, or general)."
   ]
  },
  {
   "cell_type": "code",
   "execution_count": 75,
   "metadata": {
    "id": "YmMiVOgqJFsr"
   },
   "outputs": [],
   "source": [
    "from langgraph.graph import StateGraph, END\n",
    "from langgraph.checkpoint.memory import MemorySaver\n",
    "\n",
    "# Create the graph with our typed state\n",
    "customer_support_graph = StateGraph(CustomerSupportState)\n",
    "\n",
    "# Add nodes for each function\n",
    "customer_support_graph.add_node(\"categorize_inquiry\", categorize_inquiry)\n",
    "customer_support_graph.add_node(\"analyze_inquiry_sentiment\", analyze_inquiry_sentiment)\n",
    "customer_support_graph.add_node(\"generate_technical_response\", generate_technical_response)\n",
    "customer_support_graph.add_node(\"generate_billing_response\", generate_billing_response)\n",
    "customer_support_graph.add_node(\"generate_general_response\", generate_general_response)\n",
    "customer_support_graph.add_node(\"escalate_to_human_agent\", escalate_to_human_agent)\n",
    "\n",
    "# Add edges to represent the processing flow\n",
    "customer_support_graph.add_edge(\"categorize_inquiry\", \"analyze_inquiry_sentiment\")\n",
    "customer_support_graph.add_conditional_edges(\n",
    "    \"analyze_inquiry_sentiment\",\n",
    "    determine_route,\n",
    "    [\n",
    "        \"generate_technical_response\",\n",
    "        \"generate_billing_response\",\n",
    "        \"generate_general_response\",\n",
    "        \"escalate_to_human_agent\"\n",
    "    ]\n",
    ")\n",
    "\n",
    "# All terminal nodes lead to the END\n",
    "customer_support_graph.add_edge(\"generate_technical_response\", END)\n",
    "customer_support_graph.add_edge(\"generate_billing_response\", END)\n",
    "customer_support_graph.add_edge(\"generate_general_response\", END)\n",
    "customer_support_graph.add_edge(\"escalate_to_human_agent\", END)\n",
    "\n",
    "# Set the entry point for the workflow\n",
    "customer_support_graph.set_entry_point(\"categorize_inquiry\")\n",
    "\n",
    "# Compile the graph into a runnable agent\n",
    "memory = MemorySaver()\n",
    "compiled_support_agent = customer_support_graph.compile(checkpointer=memory)"
   ]
  },
  {
   "cell_type": "markdown",
   "metadata": {
    "id": "Txzt11uTJFss"
   },
   "source": [
    "## Visualize the Workflow\n",
    "\n",
    "Below is a generated diagram of the workflow using Mermaid syntax. It shows how each node connects in the graph."
   ]
  },
  {
   "cell_type": "code",
   "execution_count": 77,
   "metadata": {
    "colab": {
     "base_uri": "https://localhost:8080/",
     "height": 449
    },
    "id": "Qt89sV4kJFst",
    "outputId": "217aee26-0692-4e55-e176-8fa567142bb6"
   },
   "outputs": [
    {
     "data": {
      "image/png": "[encoded data removed]",
      "text/plain": [
       "<IPython.core.display.Image object>"
      ]
     },
     "metadata": {},
     "output_type": "display_data"
    }
   ],
   "source": [
    "from IPython.display import display, Image, Markdown\n",
    "\n",
    "display(Image(compiled_support_agent.get_graph().draw_mermaid_png()))"
   ]
  },
  {
   "cell_type": "markdown",
   "metadata": {
    "id": "vVfgP2P9JFsv"
   },
   "source": [
    "## Helper Function to Run the Workflow\n",
    "\n",
    "This function takes a customer query and runs it through our compiled workflow, returning the final results (category, sentiment, and generated response)."
   ]
  },
  {
   "cell_type": "code",
   "execution_count": 79,
   "metadata": {
    "id": "O409_2mRJFsw"
   },
   "outputs": [],
   "source": [
    "def call_support_agent(agent, prompt, user_session_id, verbose=False):\n",
    "    events = agent.stream(\n",
    "        {\"customer_query\": prompt}, # initial state of the agent\n",
    "        {\"configurable\": {\"thread_id\": user_session_id}},\n",
    "        stream_mode=\"values\",\n",
    "    )\n",
    "\n",
    "    print('Running Agent. Please wait...')\n",
    "    for event in events:\n",
    "        if verbose:\n",
    "                print(event)\n",
    "\n",
    "    display(Markdown(event['final_response']))"
   ]
  },
  {
   "cell_type": "markdown",
   "metadata": {
    "id": "0VeWUyGNJFsw"
   },
   "source": [
    "## Testing the Customer Support Workflow\n",
    "\n",
    "Let's test the workflow with some sample queries to verify categorization, sentiment analysis, and response generation."
   ]
  },
  {
   "cell_type": "code",
   "execution_count": 81,
   "metadata": {
    "colab": {
     "base_uri": "https://localhost:8080/"
    },
    "id": "hZ9a53halubq",
    "outputId": "47d800b8-54a0-47b5-8c43-b36812dbf5c7"
   },
   "outputs": [
    {
     "data": {
      "text/plain": [
       "['Question: How do I integrate your AI product with my existing CRM system? Answer: You can integrate our AI product with your CRM using our API. Refer to the API documentation available on our website for step-by-step guidance.',\n",
       " 'Question: What programming languages are supported by your SDK? Answer: Our SDK supports Python, Java, and JavaScript. Additional language support is planned for future updates.',\n",
       " 'Question: Can your AI models run on-premise? Answer: Yes, our AI models can be deployed on-premise. We provide deployment guides for various environments.',\n",
       " 'Question: Does your hardware support edge AI applications? Answer: Yes, our hardware is optimized for edge AI, with low-latency processing and energy-efficient designs.',\n",
       " 'Question: How do I troubleshoot issues with model performance? Answer: Start by reviewing the logs, checking resource utilization, and validating input data quality. You can also reach out to support for assistance.',\n",
       " 'Question: Can I fine-tune your AI models? Answer: Yes, our platform supports model fine-tuning using your custom datasets.',\n",
       " 'Question: What are the hardware requirements for running your AI solutions? Answer: Our AI solutions require a minimum of 16GB RAM, an Intel Core i7 processor, and an NVIDIA RTX 3060 GPU for optimal performance.',\n",
       " 'Question: Do you provide pre-trained models? Answer: Yes, we offer a range of pre-trained models for various use cases such as NLP, computer vision, and recommendation systems.',\n",
       " 'Question: How do I update the firmware on your hardware products? Answer: Firmware updates can be applied through the companion app or the firmware update tool available on our website.',\n",
       " 'Question: Is your product compatible with Kubernetes for deployment? Answer: Yes, our platform provides Kubernetes deployment templates and Helm charts for easy setup.',\n",
       " \"Question: How can I get a detailed invoice for my purchase? Answer: You can download a detailed invoice from your account dashboard under the 'Billing' section.\",\n",
       " 'Question: Do you offer any discounts for annual subscriptions? Answer: Yes, we offer a 10% discount on annual subscriptions compared to monthly billing. You can select this option during checkout.',\n",
       " 'Question: Can I change my subscription plan mid-cycle? Answer: Yes, you can upgrade or downgrade your subscription plan at any time from the account dashboard. Charges will be prorated.',\n",
       " 'Question: What payment methods do you accept? Answer: We accept credit cards, PayPal, and wire transfers for corporate accounts.',\n",
       " 'Question: Do you provide refunds for unused subscription periods? Answer: Refunds are provided based on our refund policy. Please refer to our Terms and Conditions for more details.',\n",
       " 'Question: Can I receive a consolidated bill for multiple accounts? Answer: Yes, we offer consolidated billing for enterprise customers. Please contact sales to enable this feature.',\n",
       " \"Question: How do I update my billing information? Answer: You can update your billing information from the 'Billing' section in your account dashboard.\",\n",
       " 'Question: Are there any additional fees apart from the subscription cost? Answer: There are no hidden fees. However, additional services like premium support may incur extra charges.',\n",
       " 'Question: Can I get a quote for budgeting purposes? Answer: Yes, you can request a custom quote by contacting our sales team.',\n",
       " 'Question: Do you charge taxes on the subscription? Answer: Applicable taxes are calculated based on your location and displayed during checkout.',\n",
       " 'Question: What are your working hours? Answer: Our support team is available from 9:00 AM to 6:00 PM, Monday to Friday.',\n",
       " 'Question: What is your refund policy? Answer: We offer a 30-day money-back guarantee for all our products. Please contact support to initiate a refund.',\n",
       " 'Question: What is your shipping policy for hardware products? Answer: We provide free shipping for orders above $500. For orders below $500, a flat shipping fee of $20 applies. Shipping typically takes 5-7 business days.',\n",
       " 'Question: How do I contact customer support? Answer: You can contact our support team via email at support@example.com or call us at 1-800-123-4567.',\n",
       " 'Question: Do you provide training for your AI products? Answer: Yes, we provide free online tutorials and offer paid instructor-led training sessions.',\n",
       " \"Question: Where can I find user manuals for your hardware products? Answer: User manuals are available on our website under the 'Support' section.\",\n",
       " 'Question: Can I try your software before purchasing? Answer: Yes, we offer a 14-day free trial for our software products. Visit our website to sign up.',\n",
       " 'Question: How do I escalate an unresolved issue? Answer: You can escalate unresolved issues by emailing our escalation team at escalations@example.com.',\n",
       " 'Question: Do you have a reseller program? Answer: Yes, we have a reseller program. Please contact our sales team for details.',\n",
       " 'Question: What is your policy for handling damaged hardware deliveries? Answer: If you receive damaged hardware, please report it within 48 hours to our support team. We will arrange for a replacement.']"
      ]
     },
     "execution_count": 81,
     "metadata": {},
     "output_type": "execute_result"
    }
   ],
   "source": [
    "[item['text'] for item in knowledge_base]"
   ]
  },
  {
   "cell_type": "code",
   "execution_count": 83,
   "metadata": {
    "colab": {
     "base_uri": "https://localhost:8080/",
     "height": 210
    },
    "id": "s6v7AAnFlp8S",
    "outputId": "79768999-9ede-4c83-93d5-a2b045e88eaa"
   },
   "outputs": [
    {
     "name": "stdout",
     "output_type": "stream",
     "text": [
      "Running Agent. Please wait...\n",
      "{'customer_query': 'do you support pre-trained models?'}\n",
      "{'customer_query': 'do you support pre-trained models?', 'query_category': 'Technical'}\n",
      "{'customer_query': 'do you support pre-trained models?', 'query_category': 'Technical', 'query_sentiment': 'Neutral'}\n",
      "{'customer_query': 'do you support pre-trained models?', 'query_category': 'Technical', 'query_sentiment': 'Neutral', 'final_response': 'Yes, we support pre-trained models. We offer a range of pre-trained models tailored for various use cases, including natural language processing (NLP), computer vision, and recommendation systems. Additionally, if you need to customize these models further, our platform allows for model fine-tuning using your own datasets. This flexibility ensures that you can adapt the models to better suit your specific requirements. If you have any more questions or need assistance with deployment, feel free to reach out.'}\n"
     ]
    },
    {
     "data": {
      "text/markdown": [
       "Yes, we support pre-trained models. We offer a range of pre-trained models tailored for various use cases, including natural language processing (NLP), computer vision, and recommendation systems. Additionally, if you need to customize these models further, our platform allows for model fine-tuning using your own datasets. This flexibility ensures that you can adapt the models to better suit your specific requirements. If you have any more questions or need assistance with deployment, feel free to reach out."
      ],
      "text/plain": [
       "<IPython.core.display.Markdown object>"
      ]
     },
     "metadata": {},
     "output_type": "display_data"
    }
   ],
   "source": [
    "uid = 'jim001'\n",
    "query = \"do you support pre-trained models?\"\n",
    "call_support_agent(agent=compiled_support_agent,\n",
    "                   prompt=query,\n",
    "                   user_session_id=uid,\n",
    "                   verbose=True)"
   ]
  },
  {
   "cell_type": "code",
   "execution_count": 38,
   "metadata": {
    "colab": {
     "base_uri": "https://localhost:8080/",
     "height": 192
    },
    "id": "H4624wCxJFsx",
    "outputId": "4fdaf0d5-c19c-441b-b38b-e3299d42c909"
   },
   "outputs": [
    {
     "name": "stdout",
     "output_type": "stream",
     "text": [
      "Running Agent. Please wait...\n",
      "{'customer_query': 'how do I get my invoice?', 'query_category': 'Technical', 'query_sentiment': 'Neutral', 'final_response': 'Yes, we do support pre-trained models. We offer a range of pre-trained models tailored for various use cases, including natural language processing (NLP), computer vision, and recommendation systems. Additionally, our platform allows you to fine-tune these models using your custom datasets to better suit your specific needs. If you require on-premise deployment, our AI models can be deployed in such environments, and we provide comprehensive deployment guides to assist you with the process. If you have any further questions or need assistance, feel free to reach out.'}\n",
      "{'customer_query': 'how do I get my invoice?', 'query_category': 'Billing', 'query_sentiment': 'Neutral', 'final_response': 'Yes, we do support pre-trained models. We offer a range of pre-trained models tailored for various use cases, including natural language processing (NLP), computer vision, and recommendation systems. Additionally, our platform allows you to fine-tune these models using your custom datasets to better suit your specific needs. If you require on-premise deployment, our AI models can be deployed in such environments, and we provide comprehensive deployment guides to assist you with the process. If you have any further questions or need assistance, feel free to reach out.'}\n",
      "{'customer_query': 'how do I get my invoice?', 'query_category': 'Billing', 'query_sentiment': 'Neutral', 'final_response': 'Yes, we do support pre-trained models. We offer a range of pre-trained models tailored for various use cases, including natural language processing (NLP), computer vision, and recommendation systems. Additionally, our platform allows you to fine-tune these models using your custom datasets to better suit your specific needs. If you require on-premise deployment, our AI models can be deployed in such environments, and we provide comprehensive deployment guides to assist you with the process. If you have any further questions or need assistance, feel free to reach out.'}\n",
      "{'customer_query': 'how do I get my invoice?', 'query_category': 'Billing', 'query_sentiment': 'Neutral', 'final_response': \"Thank you for reaching out with your query on obtaining your invoice. You can easily download a detailed invoice by accessing your account dashboard. Once you're logged in, navigate to the 'Billing' section where you will find the option to view and download your invoices. If you encounter any issues or need further assistance, please feel free to reach out.\"}\n"
     ]
    },
    {
     "data": {
      "text/markdown": [
       "Thank you for reaching out with your query on obtaining your invoice. You can easily download a detailed invoice by accessing your account dashboard. Once you're logged in, navigate to the 'Billing' section where you will find the option to view and download your invoices. If you encounter any issues or need further assistance, please feel free to reach out."
      ],
      "text/plain": [
       "<IPython.core.display.Markdown object>"
      ]
     },
     "metadata": {},
     "output_type": "display_data"
    }
   ],
   "source": [
    "query = \"how do I get my invoice?\"\n",
    "call_support_agent(agent=compiled_support_agent,\n",
    "                   prompt=query,\n",
    "                   user_session_id=uid,\n",
    "                   verbose=True)"
   ]
  },
  {
   "cell_type": "code",
   "execution_count": 39,
   "metadata": {
    "colab": {
     "base_uri": "https://localhost:8080/",
     "height": 104
    },
    "id": "LIPGRwMJn5-q",
    "outputId": "d26128a3-8b57-4ee5-cc9a-6fa0557018be"
   },
   "outputs": [
    {
     "name": "stdout",
     "output_type": "stream",
     "text": [
      "Running Agent. Please wait...\n"
     ]
    },
    {
     "data": {
      "text/markdown": [
       "Thank you for reaching out with your question about our shipping policy. For hardware products, we offer free shipping on orders over $500. If your order is below $500, a flat shipping fee of $20 will be applied. Typically, shipping takes between 5-7 business days. If you have any further questions or need assistance, feel free to contact our support team."
      ],
      "text/plain": [
       "<IPython.core.display.Markdown object>"
      ]
     },
     "metadata": {},
     "output_type": "display_data"
    }
   ],
   "source": [
    "query = \"Can you tell me about your shipping policy?\"\n",
    "call_support_agent(agent=compiled_support_agent,\n",
    "                   prompt=query,\n",
    "                   user_session_id=uid,\n",
    "                   verbose=False)"
   ]
  },
  {
   "cell_type": "code",
   "execution_count": 40,
   "metadata": {
    "colab": {
     "base_uri": "https://localhost:8080/",
     "height": 158
    },
    "id": "FNspMHcJoBBx",
    "outputId": "72d38c72-b8c1-426c-aee2-a44cf1bc3648"
   },
   "outputs": [
    {
     "name": "stdout",
     "output_type": "stream",
     "text": [
      "Running Agent. Please wait...\n",
      "{'customer_query': \"I'm fed up with this faulty hardware, I need a refund\", 'query_category': 'General', 'query_sentiment': 'Neutral', 'final_response': 'Thank you for reaching out with your question about our shipping policy. For hardware products, we offer free shipping on orders over $500. If your order is below $500, a flat shipping fee of $20 will be applied. Typically, shipping takes between 5-7 business days. If you have any further questions or need assistance, feel free to contact our support team.'}\n",
      "{'customer_query': \"I'm fed up with this faulty hardware, I need a refund\", 'query_category': 'Billing', 'query_sentiment': 'Neutral', 'final_response': 'Thank you for reaching out with your question about our shipping policy. For hardware products, we offer free shipping on orders over $500. If your order is below $500, a flat shipping fee of $20 will be applied. Typically, shipping takes between 5-7 business days. If you have any further questions or need assistance, feel free to contact our support team.'}\n",
      "{'customer_query': \"I'm fed up with this faulty hardware, I need a refund\", 'query_category': 'Billing', 'query_sentiment': 'Negative', 'final_response': 'Thank you for reaching out with your question about our shipping policy. For hardware products, we offer free shipping on orders over $500. If your order is below $500, a flat shipping fee of $20 will be applied. Typically, shipping takes between 5-7 business days. If you have any further questions or need assistance, feel free to contact our support team.'}\n",
      "{'customer_query': \"I'm fed up with this faulty hardware, I need a refund\", 'query_category': 'Billing', 'query_sentiment': 'Negative', 'final_response': 'Apologies, we are really sorry! Someone from our team will be reaching out to your shortly!'}\n"
     ]
    },
    {
     "data": {
      "text/markdown": [
       "Apologies, we are really sorry! Someone from our team will be reaching out to your shortly!"
      ],
      "text/plain": [
       "<IPython.core.display.Markdown object>"
      ]
     },
     "metadata": {},
     "output_type": "display_data"
    }
   ],
   "source": [
    "query = \"I'm fed up with this faulty hardware, I need a refund\"\n",
    "call_support_agent(agent=compiled_support_agent,\n",
    "                   prompt=query,\n",
    "                   user_session_id=uid,\n",
    "                   verbose=True)"
   ]
  },
  {
   "cell_type": "code",
   "execution_count": 41,
   "metadata": {
    "colab": {
     "base_uri": "https://localhost:8080/",
     "height": 192
    },
    "id": "BMzoQZsBNY9n",
    "outputId": "209c1730-0917-46f7-a11c-abf76cc7486f"
   },
   "outputs": [
    {
     "name": "stdout",
     "output_type": "stream",
     "text": [
      "Running Agent. Please wait...\n",
      "{'customer_query': 'What are your working hours?', 'query_category': 'Billing', 'query_sentiment': 'Negative', 'final_response': 'Apologies, we are really sorry! Someone from our team will be reaching out to your shortly!'}\n",
      "{'customer_query': 'What are your working hours?', 'query_category': 'General', 'query_sentiment': 'Negative', 'final_response': 'Apologies, we are really sorry! Someone from our team will be reaching out to your shortly!'}\n",
      "{'customer_query': 'What are your working hours?', 'query_category': 'General', 'query_sentiment': 'Neutral', 'final_response': 'Apologies, we are really sorry! Someone from our team will be reaching out to your shortly!'}\n",
      "{'customer_query': 'What are your working hours?', 'query_category': 'General', 'query_sentiment': 'Neutral', 'final_response': 'Thank you for reaching out with your query. Our support team is available to assist you from 9:00 AM to 6:00 PM, Monday to Friday. If you have any further questions or need assistance outside of these hours, please feel free to contact us via email at support@example.com or call us at 1-800-123-4567. We are here to help!'}\n"
     ]
    },
    {
     "data": {
      "text/markdown": [
       "Thank you for reaching out with your query. Our support team is available to assist you from 9:00 AM to 6:00 PM, Monday to Friday. If you have any further questions or need assistance outside of these hours, please feel free to contact us via email at support@example.com or call us at 1-800-123-4567. We are here to help!"
      ],
      "text/plain": [
       "<IPython.core.display.Markdown object>"
      ]
     },
     "metadata": {},
     "output_type": "display_data"
    }
   ],
   "source": [
    "query = \"What are your working hours?\"\n",
    "call_support_agent(agent=compiled_support_agent,\n",
    "                   prompt=query,\n",
    "                   user_session_id=uid,\n",
    "                   verbose=True)"
   ]
  }
 ],
 "metadata": {
  "accelerator": "GPU",
  "colab": {
   "gpuType": "T4",
   "provenance": []
  },
  "kernelspec": {
   "display_name": "Python 3 (ipykernel)",
   "language": "python",
   "name": "python3"
  },
  "language_info": {
   "codemirror_mode": {
    "name": "ipython",
    "version": 3
   },
   "file_extension": ".py",
   "mimetype": "text/x-python",
   "name": "python",
   "nbconvert_exporter": "python",
   "pygments_lexer": "ipython3",
   "version": "3.12.7"
  }
 },
 "nbformat": 4,
 "nbformat_minor": 4
}
